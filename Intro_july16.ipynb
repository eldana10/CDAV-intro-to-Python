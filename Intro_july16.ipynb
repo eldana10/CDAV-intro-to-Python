{
  "nbformat": 4,
  "nbformat_minor": 0,
  "metadata": {
    "colab": {
      "provenance": [],
      "authorship_tag": "ABX9TyPufE6saSf/gJMEQF0FKFZI",
      "include_colab_link": true
    },
    "kernelspec": {
      "name": "python3",
      "display_name": "Python 3"
    },
    "language_info": {
      "name": "python"
    }
  },
  "cells": [
    {
      "cell_type": "markdown",
      "metadata": {
        "id": "view-in-github",
        "colab_type": "text"
      },
      "source": [
        "<a href=\"https://colab.research.google.com/github/eldana10/CDAV-intro-to-Python/blob/main/Intro_july16.ipynb\" target=\"_parent\"><img src=\"https://colab.research.google.com/assets/colab-badge.svg\" alt=\"Open In Colab\"/></a>"
      ]
    },
    {
      "cell_type": "code",
      "execution_count": null,
      "metadata": {
        "colab": {
          "base_uri": "https://localhost:8080/"
        },
        "id": "rQT0phJX8_jZ",
        "outputId": "0c0f068d-bbfb-48df-a8d5-ee79fc8ff20c"
      },
      "outputs": [
        {
          "output_type": "stream",
          "name": "stdout",
          "text": [
            "Hello World!!!\n"
          ]
        }
      ],
      "source": [
        "print(\"Hello World!!!\")"
      ]
    },
    {
      "cell_type": "code",
      "source": [
        "1+1"
      ],
      "metadata": {
        "colab": {
          "base_uri": "https://localhost:8080/"
        },
        "id": "kHRJA_-IAGKt",
        "outputId": "b1648734-3536-4db4-8835-69fc49911835"
      },
      "execution_count": null,
      "outputs": [
        {
          "output_type": "execute_result",
          "data": {
            "text/plain": [
              "2"
            ]
          },
          "metadata": {},
          "execution_count": 4
        }
      ]
    },
    {
      "cell_type": "code",
      "source": [
        "4/2"
      ],
      "metadata": {
        "colab": {
          "base_uri": "https://localhost:8080/"
        },
        "id": "I2s7WdBZAJvz",
        "outputId": "9724aa79-9084-4de7-c6f6-02e8b72f7edf"
      },
      "execution_count": null,
      "outputs": [
        {
          "output_type": "execute_result",
          "data": {
            "text/plain": [
              "2.0"
            ]
          },
          "metadata": {},
          "execution_count": 5
        }
      ]
    },
    {
      "cell_type": "code",
      "source": [
        "def addition():\n",
        "  print(1+1)"
      ],
      "metadata": {
        "id": "bTlP9yIVBTA9"
      },
      "execution_count": null,
      "outputs": []
    },
    {
      "cell_type": "markdown",
      "source": [
        "we just created a function so no output"
      ],
      "metadata": {
        "id": "RjWJjG35E1LD"
      }
    },
    {
      "cell_type": "code",
      "source": [
        "addition()"
      ],
      "metadata": {
        "colab": {
          "base_uri": "https://localhost:8080/"
        },
        "id": "bofUo19WE7sW",
        "outputId": "0584ce29-a961-4f5a-b9c5-eab1b60d9fff"
      },
      "execution_count": null,
      "outputs": [
        {
          "output_type": "stream",
          "name": "stdout",
          "text": [
            "2\n"
          ]
        }
      ]
    },
    {
      "cell_type": "markdown",
      "source": [
        "so now we call our funtion and get output"
      ],
      "metadata": {
        "id": "865-cS2vFFU5"
      }
    },
    {
      "cell_type": "code",
      "source": [
        "def addition_v1(num_1,num_2):\n",
        "  print(num_1 + num_2)"
      ],
      "metadata": {
        "id": "Qg5wAQq-FKcI"
      },
      "execution_count": null,
      "outputs": []
    },
    {
      "cell_type": "markdown",
      "source": [
        "created function and gave it argument 1 and argument 2"
      ],
      "metadata": {
        "id": "ub_QIUqlGvRx"
      }
    },
    {
      "cell_type": "code",
      "source": [
        "addition_v1(30,40)"
      ],
      "metadata": {
        "colab": {
          "base_uri": "https://localhost:8080/"
        },
        "id": "fvP-6DRhGjLR",
        "outputId": "66fcb47e-55c4-447b-ebc3-6feed665810b"
      },
      "execution_count": null,
      "outputs": [
        {
          "output_type": "stream",
          "name": "stdout",
          "text": [
            "70\n"
          ]
        }
      ]
    },
    {
      "cell_type": "markdown",
      "source": [
        "call our funtion"
      ],
      "metadata": {
        "id": "QAm1scjnG5ns"
      }
    },
    {
      "cell_type": "code",
      "source": [
        "def addition_v2(a,b):\n",
        "  print((a+b)/100)"
      ],
      "metadata": {
        "id": "g1BkoXt1G8q_"
      },
      "execution_count": null,
      "outputs": []
    },
    {
      "cell_type": "code",
      "source": [
        "addition_v2(60,40)"
      ],
      "metadata": {
        "colab": {
          "base_uri": "https://localhost:8080/"
        },
        "id": "UalUm6GnHlwV",
        "outputId": "cc45728b-198f-4558-e091-05dc0437c3c1"
      },
      "execution_count": null,
      "outputs": [
        {
          "output_type": "stream",
          "name": "stdout",
          "text": [
            "1.0\n"
          ]
        }
      ]
    },
    {
      "cell_type": "code",
      "source": [
        "a=10"
      ],
      "metadata": {
        "id": "h-lZDkgtV9jI"
      },
      "execution_count": null,
      "outputs": []
    },
    {
      "cell_type": "code",
      "source": [
        "print(a)"
      ],
      "metadata": {
        "colab": {
          "base_uri": "https://localhost:8080/"
        },
        "id": "DRNyUxQzWA00",
        "outputId": "fd79d414-ea74-4691-d9ed-5275228ee39a"
      },
      "execution_count": null,
      "outputs": [
        {
          "output_type": "stream",
          "name": "stdout",
          "text": [
            "10\n"
          ]
        }
      ]
    },
    {
      "cell_type": "code",
      "source": [
        "a+70"
      ],
      "metadata": {
        "colab": {
          "base_uri": "https://localhost:8080/"
        },
        "id": "7SUCW0UlW4-Y",
        "outputId": "5a49176b-2396-4a92-e10c-4680e1d1eab5"
      },
      "execution_count": null,
      "outputs": [
        {
          "output_type": "execute_result",
          "data": {
            "text/plain": [
              "80"
            ]
          },
          "metadata": {},
          "execution_count": 14
        }
      ]
    },
    {
      "cell_type": "code",
      "source": [
        "def minus(a,b):\n",
        "  print(a-b)"
      ],
      "metadata": {
        "id": "nZHzstB6W6Bv"
      },
      "execution_count": null,
      "outputs": []
    },
    {
      "cell_type": "code",
      "source": [
        "minus(90,10)"
      ],
      "metadata": {
        "colab": {
          "base_uri": "https://localhost:8080/"
        },
        "id": "MZePNetDXnmH",
        "outputId": "a5cf714c-8b3a-45d3-9f3f-82edc1d6fd7d"
      },
      "execution_count": null,
      "outputs": [
        {
          "output_type": "stream",
          "name": "stdout",
          "text": [
            "80\n"
          ]
        }
      ]
    },
    {
      "cell_type": "code",
      "source": [
        "def minus(a,b):\n",
        "  return a-b"
      ],
      "metadata": {
        "id": "juKGfRbhXxAd"
      },
      "execution_count": null,
      "outputs": []
    },
    {
      "cell_type": "code",
      "source": [
        "minus(90,10)+1"
      ],
      "metadata": {
        "colab": {
          "base_uri": "https://localhost:8080/"
        },
        "id": "gA0vZ1F3X1ag",
        "outputId": "de388d69-1f7c-451e-d8d4-2a1170e14df2"
      },
      "execution_count": null,
      "outputs": [
        {
          "output_type": "execute_result",
          "data": {
            "text/plain": [
              "81"
            ]
          },
          "metadata": {},
          "execution_count": 18
        }
      ]
    },
    {
      "cell_type": "code",
      "source": [
        "temp_dif = minus(56,30)"
      ],
      "metadata": {
        "id": "4MqIh1hbYX7H"
      },
      "execution_count": null,
      "outputs": []
    },
    {
      "cell_type": "code",
      "source": [
        "print(temp_dif)"
      ],
      "metadata": {
        "colab": {
          "base_uri": "https://localhost:8080/"
        },
        "id": "FZ9xsgO1Yd4s",
        "outputId": "93812cff-9ac5-4208-a409-1dac94137a6e"
      },
      "execution_count": null,
      "outputs": [
        {
          "output_type": "stream",
          "name": "stdout",
          "text": [
            "26\n"
          ]
        }
      ]
    },
    {
      "cell_type": "code",
      "source": [
        "#create a funtion called grader. the funtion should take three arguments i.e cat_1, cat_2, & exam.\n",
        "#the weight of cat_1 is 20%, cat_2 is 30%, the exam is 50%.\n",
        "#the formula is (cat_1/100 * 20) + (cat_2/100 * 30) + (exam/100 * 50)\n",
        "\n",
        "def grader(cat_1, cat_2, exam):\n",
        "  return (cat_1/100 * 20) + (cat_2/100 * 30) + (exam/100 * 50)"
      ],
      "metadata": {
        "id": "5MBhprRIcM1X"
      },
      "execution_count": null,
      "outputs": []
    },
    {
      "cell_type": "code",
      "source": [
        "grader(50,60,70)"
      ],
      "metadata": {
        "colab": {
          "base_uri": "https://localhost:8080/"
        },
        "id": "a1FS09bOdNv4",
        "outputId": "95453a26-fb58-400d-e4d6-ad17771644df"
      },
      "execution_count": null,
      "outputs": [
        {
          "output_type": "execute_result",
          "data": {
            "text/plain": [
              "63.0"
            ]
          },
          "metadata": {},
          "execution_count": 22
        }
      ]
    },
    {
      "cell_type": "code",
      "source": [
        "total_grade = grader(90,70,20)"
      ],
      "metadata": {
        "id": "PHVusvdUelCO"
      },
      "execution_count": null,
      "outputs": []
    },
    {
      "cell_type": "code",
      "source": [
        "print(total_grade)"
      ],
      "metadata": {
        "colab": {
          "base_uri": "https://localhost:8080/"
        },
        "id": "p8nEantfevUe",
        "outputId": "b6a07cb0-291d-4c56-994e-eb1b29c1f425"
      },
      "execution_count": null,
      "outputs": [
        {
          "output_type": "stream",
          "name": "stdout",
          "text": [
            "49.0\n"
          ]
        }
      ]
    },
    {
      "cell_type": "code",
      "source": [
        "total_grade + 20"
      ],
      "metadata": {
        "colab": {
          "base_uri": "https://localhost:8080/"
        },
        "id": "80qk18eCe1iZ",
        "outputId": "8baf07df-bb15-474a-93c7-527fcd8db1b0"
      },
      "execution_count": null,
      "outputs": [
        {
          "output_type": "execute_result",
          "data": {
            "text/plain": [
              "69.0"
            ]
          },
          "metadata": {},
          "execution_count": 25
        }
      ]
    },
    {
      "cell_type": "code",
      "source": [
        "type(total_grade)"
      ],
      "metadata": {
        "colab": {
          "base_uri": "https://localhost:8080/"
        },
        "id": "anQecB1Vhc_1",
        "outputId": "29f62c29-9870-460a-d28c-d37be6aa5097"
      },
      "execution_count": null,
      "outputs": [
        {
          "output_type": "execute_result",
          "data": {
            "text/plain": [
              "float"
            ]
          },
          "metadata": {},
          "execution_count": 26
        }
      ]
    },
    {
      "cell_type": "code",
      "source": [
        "int(total_grade)"
      ],
      "metadata": {
        "colab": {
          "base_uri": "https://localhost:8080/"
        },
        "id": "bTERqrRUiDZY",
        "outputId": "0d9d96d5-0e4e-4cc0-d37d-82c0b08cd9f9"
      },
      "execution_count": null,
      "outputs": [
        {
          "output_type": "execute_result",
          "data": {
            "text/plain": [
              "49"
            ]
          },
          "metadata": {},
          "execution_count": 27
        }
      ]
    },
    {
      "cell_type": "code",
      "source": [
        "str(total_grade)"
      ],
      "metadata": {
        "colab": {
          "base_uri": "https://localhost:8080/",
          "height": 35
        },
        "id": "ZafGquaGiGLf",
        "outputId": "20b8e890-6456-40fc-c032-c4fd2fb52a9e"
      },
      "execution_count": null,
      "outputs": [
        {
          "output_type": "execute_result",
          "data": {
            "text/plain": [
              "'49.0'"
            ],
            "application/vnd.google.colaboratory.intrinsic+json": {
              "type": "string"
            }
          },
          "metadata": {},
          "execution_count": 28
        }
      ]
    },
    {
      "cell_type": "code",
      "source": [
        "age = input(\"What is your age?\")"
      ],
      "metadata": {
        "colab": {
          "base_uri": "https://localhost:8080/"
        },
        "id": "1FUrHCYpjqlW",
        "outputId": "55298a19-98a8-49b9-f869-11c3977ffce0"
      },
      "execution_count": null,
      "outputs": [
        {
          "name": "stdout",
          "output_type": "stream",
          "text": [
            "What is your age?65\n"
          ]
        }
      ]
    },
    {
      "cell_type": "code",
      "source": [
        "print(age)"
      ],
      "metadata": {
        "colab": {
          "base_uri": "https://localhost:8080/"
        },
        "id": "rbfNv3oaj-DA",
        "outputId": "e85146ec-8fe2-4b45-80fc-54e1fff9c354"
      },
      "execution_count": null,
      "outputs": [
        {
          "output_type": "stream",
          "name": "stdout",
          "text": [
            "65\n"
          ]
        }
      ]
    },
    {
      "cell_type": "code",
      "source": [
        "type(age)"
      ],
      "metadata": {
        "colab": {
          "base_uri": "https://localhost:8080/"
        },
        "id": "xQTtKI_DkFw1",
        "outputId": "e7ed86a8-b75d-4979-cbae-4ff3107b4ed8"
      },
      "execution_count": null,
      "outputs": [
        {
          "output_type": "execute_result",
          "data": {
            "text/plain": [
              "str"
            ]
          },
          "metadata": {},
          "execution_count": 31
        }
      ]
    },
    {
      "cell_type": "code",
      "source": [
        "float(age)"
      ],
      "metadata": {
        "colab": {
          "base_uri": "https://localhost:8080/"
        },
        "id": "E4Qyq4QpkPi-",
        "outputId": "99dd1901-45ad-4a15-ab86-da050daf26e3"
      },
      "execution_count": null,
      "outputs": [
        {
          "output_type": "execute_result",
          "data": {
            "text/plain": [
              "65.0"
            ]
          },
          "metadata": {},
          "execution_count": 32
        }
      ]
    },
    {
      "cell_type": "code",
      "source": [
        "age = float(age)"
      ],
      "metadata": {
        "id": "pMKhXDJokXaJ"
      },
      "execution_count": null,
      "outputs": []
    },
    {
      "cell_type": "code",
      "source": [
        "type(age)"
      ],
      "metadata": {
        "colab": {
          "base_uri": "https://localhost:8080/"
        },
        "id": "St6RyCnDkhKV",
        "outputId": "b5c1411c-4538-464a-8b78-0e022043ed61"
      },
      "execution_count": null,
      "outputs": [
        {
          "output_type": "execute_result",
          "data": {
            "text/plain": [
              "float"
            ]
          },
          "metadata": {},
          "execution_count": 34
        }
      ]
    },
    {
      "cell_type": "code",
      "source": [
        "name = input(\"What is your name?\")"
      ],
      "metadata": {
        "colab": {
          "base_uri": "https://localhost:8080/"
        },
        "id": "tO1ym-1lkxyf",
        "outputId": "63fa5fc4-0bfb-4655-e021-9884b4e725d2"
      },
      "execution_count": null,
      "outputs": [
        {
          "name": "stdout",
          "output_type": "stream",
          "text": [
            "What is your name?John\n"
          ]
        }
      ]
    },
    {
      "cell_type": "code",
      "source": [
        "print(name)"
      ],
      "metadata": {
        "colab": {
          "base_uri": "https://localhost:8080/"
        },
        "id": "H3H8K85-k59J",
        "outputId": "21a6183b-30bd-4e34-aa30-2ba65b21f6cb"
      },
      "execution_count": null,
      "outputs": [
        {
          "output_type": "stream",
          "name": "stdout",
          "text": [
            "John\n"
          ]
        }
      ]
    },
    {
      "cell_type": "code",
      "source": [
        "temp = input(\"What is the temperature outside?\")"
      ],
      "metadata": {
        "colab": {
          "base_uri": "https://localhost:8080/"
        },
        "id": "lqTZLv6DlISK",
        "outputId": "83a175e0-e647-4594-946f-1151bc63085c"
      },
      "execution_count": null,
      "outputs": [
        {
          "name": "stdout",
          "output_type": "stream",
          "text": [
            "What is the temperature outside?32\n"
          ]
        }
      ]
    },
    {
      "cell_type": "code",
      "source": [
        "type(temp)"
      ],
      "metadata": {
        "colab": {
          "base_uri": "https://localhost:8080/"
        },
        "id": "_-GkEqr9lUxf",
        "outputId": "18804bf3-812d-4d69-abce-f2551df1b767"
      },
      "execution_count": null,
      "outputs": [
        {
          "output_type": "execute_result",
          "data": {
            "text/plain": [
              "str"
            ]
          },
          "metadata": {},
          "execution_count": 38
        }
      ]
    },
    {
      "cell_type": "code",
      "source": [
        "temp = int(temp)"
      ],
      "metadata": {
        "id": "VeaLxrj9lYLS"
      },
      "execution_count": null,
      "outputs": []
    },
    {
      "cell_type": "code",
      "source": [
        "type(temp)"
      ],
      "metadata": {
        "colab": {
          "base_uri": "https://localhost:8080/"
        },
        "id": "AnhQ0qHAlbTB",
        "outputId": "f04ea92a-5921-416f-fa45-99046a8155e6"
      },
      "execution_count": null,
      "outputs": [
        {
          "output_type": "execute_result",
          "data": {
            "text/plain": [
              "int"
            ]
          },
          "metadata": {},
          "execution_count": 40
        }
      ]
    },
    {
      "cell_type": "code",
      "source": [
        "temp = int(input(\"What is the temp outside?\"))  #starts with the inner most content"
      ],
      "metadata": {
        "colab": {
          "base_uri": "https://localhost:8080/"
        },
        "id": "vjXtf0iHleRC",
        "outputId": "557abaf9-48a1-4db9-9e60-b50a711250ac"
      },
      "execution_count": null,
      "outputs": [
        {
          "name": "stdout",
          "output_type": "stream",
          "text": [
            "What is the temp outside?35\n"
          ]
        }
      ]
    },
    {
      "cell_type": "code",
      "source": [
        "type(temp)"
      ],
      "metadata": {
        "colab": {
          "base_uri": "https://localhost:8080/"
        },
        "id": "Y1sMqth2ls3y",
        "outputId": "871bdf73-c7e9-4f5c-c7a1-11140464130f"
      },
      "execution_count": null,
      "outputs": [
        {
          "output_type": "execute_result",
          "data": {
            "text/plain": [
              "int"
            ]
          },
          "metadata": {},
          "execution_count": 42
        }
      ]
    },
    {
      "cell_type": "code",
      "source": [
        "#modify your grader to prompt user for their marks instead of taking arguments\n",
        "\n",
        "def grader_2():\n",
        "  cat_1 = int(input(\"What is your cat_1 grade?\"))\n",
        "  cat_2 = int(input(\"What is your cat_2 grade?\"))\n",
        "  exam = int(input(\"What is your exam grade?\"))\n",
        "  return (cat_1/100 * 20) + (cat_2/100 * 30) + (exam/100 * 50)"
      ],
      "metadata": {
        "id": "dgyCCkG5mIjC"
      },
      "execution_count": null,
      "outputs": []
    },
    {
      "cell_type": "code",
      "source": [
        "tot_grd = grader_2()"
      ],
      "metadata": {
        "colab": {
          "base_uri": "https://localhost:8080/"
        },
        "id": "wpid7ItYo4Sv",
        "outputId": "7a60b98e-b0f4-49fb-a094-a61746caef47"
      },
      "execution_count": null,
      "outputs": [
        {
          "name": "stdout",
          "output_type": "stream",
          "text": [
            "What is your cat_1 grade?40\n",
            "What is your cat_2 grade?60\n",
            "What is your exam grade?80\n"
          ]
        }
      ]
    },
    {
      "cell_type": "code",
      "source": [
        "type(grader_2())"
      ],
      "metadata": {
        "colab": {
          "base_uri": "https://localhost:8080/"
        },
        "id": "OsVQAov7p3RT",
        "outputId": "a471691a-4330-4e67-fca7-43b89094efed"
      },
      "execution_count": null,
      "outputs": [
        {
          "name": "stdout",
          "output_type": "stream",
          "text": [
            "What is your cat_1 grade?40\n",
            "What is your cat_2 grade?60\n",
            "What is your exam grade?80\n"
          ]
        },
        {
          "output_type": "execute_result",
          "data": {
            "text/plain": [
              "float"
            ]
          },
          "metadata": {},
          "execution_count": 45
        }
      ]
    },
    {
      "cell_type": "code",
      "source": [
        "def addition_1(c,d):\n",
        "  return c+d\n",
        "\n",
        "def subtraction(c,d):\n",
        "  return c-d\n",
        "\n",
        "def multiplication(c,d):\n",
        "  return c*d\n",
        "\n",
        "def division(c,d):\n",
        "  return c/d"
      ],
      "metadata": {
        "id": "Jn5b_-ghqctX"
      },
      "execution_count": null,
      "outputs": []
    },
    {
      "cell_type": "code",
      "source": [
        "c = int(input(\"Enter the first number: \"))\n",
        "d = int(input(\"Enter the second number: \"))\n",
        "print(\"addition_ans:\", c+d)\n",
        "print(\"subtraction_ans:\", c-d)\n",
        "print(\"multiplictaion_ans:\", c*d)\n",
        "print(\"division_ans:\", c/d)"
      ],
      "metadata": {
        "colab": {
          "base_uri": "https://localhost:8080/"
        },
        "id": "rIOM_uV0VgL4",
        "outputId": "ea10ee53-d2be-4699-c4dc-48d3a354a1ed"
      },
      "execution_count": null,
      "outputs": [
        {
          "output_type": "stream",
          "name": "stdout",
          "text": [
            "Enter the first number: 7\n",
            "Enter the second number: 9\n",
            "addition_ans: 16\n",
            "subtraction_ans: -2\n",
            "multiplictaion_ans: 63\n",
            "division_ans: 0.7777777777777778\n"
          ]
        }
      ]
    },
    {
      "cell_type": "markdown",
      "source": [
        "Math Library"
      ],
      "metadata": {
        "id": "VIKayWuVRmMc"
      }
    },
    {
      "cell_type": "code",
      "source": [
        "import math"
      ],
      "metadata": {
        "id": "tMpI-SdfRlVJ"
      },
      "execution_count": null,
      "outputs": []
    },
    {
      "cell_type": "code",
      "source": [
        "math.sqrt(24)"
      ],
      "metadata": {
        "colab": {
          "base_uri": "https://localhost:8080/"
        },
        "id": "-ItFTfFBRqRq",
        "outputId": "3e2a6617-0fbb-4a71-ff25-dd3cdd36741a"
      },
      "execution_count": null,
      "outputs": [
        {
          "output_type": "execute_result",
          "data": {
            "text/plain": [
              "4.898979485566356"
            ]
          },
          "metadata": {},
          "execution_count": 49
        }
      ]
    },
    {
      "cell_type": "code",
      "source": [
        "first_name = \"Jane\"\n",
        "last_name = \"Doe\"\n",
        "first_name +\" \"+last_name"
      ],
      "metadata": {
        "colab": {
          "base_uri": "https://localhost:8080/",
          "height": 35
        },
        "id": "6YEBJ7ZITHTi",
        "outputId": "c57100ef-7705-4bf2-d415-3b6c3fc2139d"
      },
      "execution_count": null,
      "outputs": [
        {
          "output_type": "execute_result",
          "data": {
            "text/plain": [
              "'Jane Doe'"
            ],
            "application/vnd.google.colaboratory.intrinsic+json": {
              "type": "string"
            }
          },
          "metadata": {},
          "execution_count": 50
        }
      ]
    },
    {
      "cell_type": "code",
      "source": [
        "first_name*3"
      ],
      "metadata": {
        "colab": {
          "base_uri": "https://localhost:8080/",
          "height": 35
        },
        "id": "iVD87pxwTm2S",
        "outputId": "a00ab6a2-49f1-4bec-81eb-cc75b118b0d0"
      },
      "execution_count": null,
      "outputs": [
        {
          "output_type": "execute_result",
          "data": {
            "text/plain": [
              "'JaneJaneJane'"
            ],
            "application/vnd.google.colaboratory.intrinsic+json": {
              "type": "string"
            }
          },
          "metadata": {},
          "execution_count": 51
        }
      ]
    },
    {
      "cell_type": "code",
      "source": [
        "#length of a given value\n",
        "len(first_name)"
      ],
      "metadata": {
        "colab": {
          "base_uri": "https://localhost:8080/"
        },
        "id": "6J8M8S-UTrMI",
        "outputId": "21a16823-68d4-4e7e-ceb1-25fb1208fd74"
      },
      "execution_count": null,
      "outputs": [
        {
          "output_type": "execute_result",
          "data": {
            "text/plain": [
              "4"
            ]
          },
          "metadata": {},
          "execution_count": 52
        }
      ]
    },
    {
      "cell_type": "code",
      "source": [
        "# method uses a dot . operator & upper capitilizes it\n",
        "first_name.upper()"
      ],
      "metadata": {
        "colab": {
          "base_uri": "https://localhost:8080/",
          "height": 35
        },
        "id": "YwaASTBWUF0w",
        "outputId": "a773f911-8370-48c4-8a36-e830653c5cba"
      },
      "execution_count": null,
      "outputs": [
        {
          "output_type": "execute_result",
          "data": {
            "text/plain": [
              "'JANE'"
            ],
            "application/vnd.google.colaboratory.intrinsic+json": {
              "type": "string"
            }
          },
          "metadata": {},
          "execution_count": 53
        }
      ]
    },
    {
      "cell_type": "code",
      "source": [
        "f_n = first_name.lower()"
      ],
      "metadata": {
        "id": "qHi0Up8dVpGu"
      },
      "execution_count": null,
      "outputs": []
    },
    {
      "cell_type": "code",
      "source": [
        "print(f_n)"
      ],
      "metadata": {
        "colab": {
          "base_uri": "https://localhost:8080/"
        },
        "id": "nNj64ttrWFwX",
        "outputId": "76d06f85-26b0-4ada-811b-f6b07b3e11ec"
      },
      "execution_count": null,
      "outputs": [
        {
          "output_type": "stream",
          "name": "stdout",
          "text": [
            "jane\n"
          ]
        }
      ]
    },
    {
      "cell_type": "code",
      "source": [
        "national_id = \"  3638 5023 \"\n",
        "national_id.strip()"
      ],
      "metadata": {
        "colab": {
          "base_uri": "https://localhost:8080/",
          "height": 35
        },
        "id": "AIbDhEKnWvpd",
        "outputId": "0f837329-1c1a-4081-c647-2025f88585e7"
      },
      "execution_count": null,
      "outputs": [
        {
          "output_type": "execute_result",
          "data": {
            "text/plain": [
              "'3638 5023'"
            ],
            "application/vnd.google.colaboratory.intrinsic+json": {
              "type": "string"
            }
          },
          "metadata": {},
          "execution_count": 56
        }
      ]
    },
    {
      "cell_type": "code",
      "source": [
        "#the first argument is what you want to replace, the second argument is what you want to replace it with\n",
        "national_id.replace(\" \", \"\")"
      ],
      "metadata": {
        "colab": {
          "base_uri": "https://localhost:8080/",
          "height": 35
        },
        "id": "XbRi12kJW8XQ",
        "outputId": "832a1a90-6a30-454d-c387-796529101ad9"
      },
      "execution_count": null,
      "outputs": [
        {
          "output_type": "execute_result",
          "data": {
            "text/plain": [
              "'36385023'"
            ],
            "application/vnd.google.colaboratory.intrinsic+json": {
              "type": "string"
            }
          },
          "metadata": {},
          "execution_count": 57
        }
      ]
    },
    {
      "cell_type": "code",
      "source": [
        "national_id.replace(\"2\", \"7\")"
      ],
      "metadata": {
        "colab": {
          "base_uri": "https://localhost:8080/",
          "height": 35
        },
        "id": "D6jOr_-eXimx",
        "outputId": "6dc9be48-9fe1-4e06-9997-5616cfa4dc24"
      },
      "execution_count": null,
      "outputs": [
        {
          "output_type": "execute_result",
          "data": {
            "text/plain": [
              "'  3638 5073 '"
            ],
            "application/vnd.google.colaboratory.intrinsic+json": {
              "type": "string"
            }
          },
          "metadata": {},
          "execution_count": 58
        }
      ]
    },
    {
      "cell_type": "code",
      "source": [
        "#chaining methods\n",
        "new_id = national_id.strip().replace(\" \", \"\").replace(\"3\", \"4\")"
      ],
      "metadata": {
        "id": "HKJJWtveXpEe"
      },
      "execution_count": null,
      "outputs": []
    },
    {
      "cell_type": "code",
      "source": [
        "print(new_id)"
      ],
      "metadata": {
        "colab": {
          "base_uri": "https://localhost:8080/"
        },
        "id": "80O3tLprYE_P",
        "outputId": "1463c447-5238-463e-a307-8ccfb39abe49"
      },
      "execution_count": null,
      "outputs": [
        {
          "output_type": "stream",
          "name": "stdout",
          "text": [
            "46485024\n"
          ]
        }
      ]
    },
    {
      "cell_type": "code",
      "source": [
        "#check if it is numeric\n",
        "new_id.isnumeric()"
      ],
      "metadata": {
        "id": "OJa-JgTVYse2",
        "colab": {
          "base_uri": "https://localhost:8080/"
        },
        "outputId": "3bce8899-17d0-4087-a8ac-22769ac19db9"
      },
      "execution_count": null,
      "outputs": [
        {
          "output_type": "execute_result",
          "data": {
            "text/plain": [
              "True"
            ]
          },
          "metadata": {},
          "execution_count": 61
        }
      ]
    },
    {
      "cell_type": "code",
      "source": [
        "national_id.isnumeric()"
      ],
      "metadata": {
        "id": "khK6NXoYYsT9",
        "colab": {
          "base_uri": "https://localhost:8080/"
        },
        "outputId": "67394cea-d7d6-48fd-b0bd-a63e44610167"
      },
      "execution_count": null,
      "outputs": [
        {
          "output_type": "execute_result",
          "data": {
            "text/plain": [
              "False"
            ]
          },
          "metadata": {},
          "execution_count": 62
        }
      ]
    },
    {
      "cell_type": "code",
      "source": [
        "#split used when you have a string of words\n",
        "cars = \"toyota,benz,bmw\"\n",
        "cars.split(\",\")"
      ],
      "metadata": {
        "id": "EDwzqEhVYsEF",
        "colab": {
          "base_uri": "https://localhost:8080/"
        },
        "outputId": "f84f1918-5747-4417-e816-2603a745a701"
      },
      "execution_count": null,
      "outputs": [
        {
          "output_type": "execute_result",
          "data": {
            "text/plain": [
              "['toyota', 'benz', 'bmw']"
            ]
          },
          "metadata": {},
          "execution_count": 63
        }
      ]
    },
    {
      "cell_type": "code",
      "source": [
        "is_cloudy = True"
      ],
      "metadata": {
        "id": "NKv2YX2cYrzJ"
      },
      "execution_count": null,
      "outputs": []
    },
    {
      "cell_type": "code",
      "source": [
        "type(is_cloudy)"
      ],
      "metadata": {
        "colab": {
          "base_uri": "https://localhost:8080/"
        },
        "id": "fBhW8k8Bis7_",
        "outputId": "3c94cca1-5a05-49bb-974d-252537d29292"
      },
      "execution_count": null,
      "outputs": [
        {
          "output_type": "execute_result",
          "data": {
            "text/plain": [
              "bool"
            ]
          },
          "metadata": {},
          "execution_count": 65
        }
      ]
    },
    {
      "cell_type": "code",
      "source": [
        "#comparison operator\n",
        "a=15\n",
        "b=8\n",
        "a == b"
      ],
      "metadata": {
        "colab": {
          "base_uri": "https://localhost:8080/"
        },
        "id": "nxeUqVAais0L",
        "outputId": "0911eac6-9377-4bbf-b8cd-501359b0efeb"
      },
      "execution_count": null,
      "outputs": [
        {
          "output_type": "execute_result",
          "data": {
            "text/plain": [
              "False"
            ]
          },
          "metadata": {},
          "execution_count": 66
        }
      ]
    },
    {
      "cell_type": "code",
      "source": [
        "c = a==b\n",
        "print(c)"
      ],
      "metadata": {
        "colab": {
          "base_uri": "https://localhost:8080/"
        },
        "id": "gEilmEQSiso6",
        "outputId": "47918029-2720-4f79-b99b-5937acf13670"
      },
      "execution_count": null,
      "outputs": [
        {
          "output_type": "stream",
          "name": "stdout",
          "text": [
            "False\n"
          ]
        }
      ]
    },
    {
      "cell_type": "code",
      "source": [
        "#boolean comparison operators\n",
        "print(a>b)\n",
        "print(a<b)\n",
        "print(a>=b)\n",
        "print(a<=b)\n",
        "print(not a==b)"
      ],
      "metadata": {
        "colab": {
          "base_uri": "https://localhost:8080/"
        },
        "id": "cUmtCdlVj4Rs",
        "outputId": "d2814420-6789-4641-e838-226d512a106a"
      },
      "execution_count": null,
      "outputs": [
        {
          "output_type": "stream",
          "name": "stdout",
          "text": [
            "True\n",
            "False\n",
            "True\n",
            "False\n",
            "True\n"
          ]
        }
      ]
    },
    {
      "cell_type": "code",
      "source": [
        "a = 3\n",
        "b = 3\n",
        "c = 4\n",
        "\n",
        "a==b\n",
        "b==c"
      ],
      "metadata": {
        "colab": {
          "base_uri": "https://localhost:8080/"
        },
        "id": "dB3dUj6jkVZe",
        "outputId": "d178fc54-14ad-4c77-93cf-59cf3ff19c7c"
      },
      "execution_count": null,
      "outputs": [
        {
          "output_type": "execute_result",
          "data": {
            "text/plain": [
              "False"
            ]
          },
          "metadata": {},
          "execution_count": 69
        }
      ]
    },
    {
      "cell_type": "code",
      "source": [
        "(a == b) and (b == c)"
      ],
      "metadata": {
        "colab": {
          "base_uri": "https://localhost:8080/"
        },
        "id": "82ZMrM1bkVIA",
        "outputId": "db5e9c8e-ad87-4d8b-af42-dab10e08901a"
      },
      "execution_count": null,
      "outputs": [
        {
          "output_type": "execute_result",
          "data": {
            "text/plain": [
              "False"
            ]
          },
          "metadata": {},
          "execution_count": 70
        }
      ]
    },
    {
      "cell_type": "code",
      "source": [
        "(a == b) or (b == c)"
      ],
      "metadata": {
        "colab": {
          "base_uri": "https://localhost:8080/"
        },
        "id": "F9kXtGPAkVBx",
        "outputId": "a35b03ae-213d-4dad-d4cb-0c4b2bd06a50"
      },
      "execution_count": null,
      "outputs": [
        {
          "output_type": "execute_result",
          "data": {
            "text/plain": [
              "True"
            ]
          },
          "metadata": {},
          "execution_count": 71
        }
      ]
    },
    {
      "cell_type": "code",
      "source": [
        "# if statement used in comparison of boolean\n",
        "is_raining = True\n",
        "\n",
        "if is_raining == True:\n",
        "  print(\"Buy an umbrella\")"
      ],
      "metadata": {
        "colab": {
          "base_uri": "https://localhost:8080/"
        },
        "id": "aBs52UQpkU8z",
        "outputId": "219089f3-ee9f-4e90-b603-7b432be36617"
      },
      "execution_count": null,
      "outputs": [
        {
          "output_type": "stream",
          "name": "stdout",
          "text": [
            "Buy an umbrella\n"
          ]
        }
      ]
    },
    {
      "cell_type": "code",
      "source": [
        "limit_weight = 20\n",
        "truck_weight = int(input(\"What is your truck weight? \"))\n",
        "\n",
        "if truck_weight > limit_weight:\n",
        "  print(\"Pay the fine\")\n",
        "else:\n",
        "  print(\"Don't pay the fine\")"
      ],
      "metadata": {
        "colab": {
          "base_uri": "https://localhost:8080/"
        },
        "id": "_CtxfCbzkU2l",
        "outputId": "a25d00a9-5562-413c-b992-0117e056ae2f"
      },
      "execution_count": null,
      "outputs": [
        {
          "output_type": "stream",
          "name": "stdout",
          "text": [
            "What is your truck weight? 18\n",
            "Don't pay the fine\n"
          ]
        }
      ]
    },
    {
      "cell_type": "code",
      "source": [
        "# else statement (runs when if doesn't run)"
      ],
      "metadata": {
        "id": "3nGTHXcrkUsd"
      },
      "execution_count": null,
      "outputs": []
    },
    {
      "cell_type": "code",
      "source": [
        "is_raining = False\n",
        "\n",
        "if is_raining:\n",
        "  print(\"Buy an umbrella\")\n",
        "else:\n",
        "  print(\"Don't buy an umbrella\")"
      ],
      "metadata": {
        "colab": {
          "base_uri": "https://localhost:8080/"
        },
        "id": "A2wNC8Yppyor",
        "outputId": "5950f1b3-dd0e-4423-ccb5-fcacf6000014"
      },
      "execution_count": null,
      "outputs": [
        {
          "output_type": "stream",
          "name": "stdout",
          "text": [
            "Don't buy an umbrella\n"
          ]
        }
      ]
    },
    {
      "cell_type": "code",
      "source": [
        "# chaining if statements then use \"elif statement\"\n",
        "\n",
        "num_of_pass = int(input(\"How many passengers? \"))\n",
        "\n",
        "if (num_of_pass == 1):\n",
        "  print(\"Use boda\")\n",
        "elif (num_of_pass > 1 and num_of_pass <= 4):\n",
        "  print(\"Use uberX\")\n",
        "elif (num_of_pass > 4 and num_of_pass < 7):\n",
        "  print(\"Use uberXL\")\n",
        "elif (num_of_pass == 1) or (num_of_pass > 8):\n",
        "  print(\"Use boda1\")\n",
        "else:\n",
        "  print(\"No uber class available\")"
      ],
      "metadata": {
        "colab": {
          "base_uri": "https://localhost:8080/"
        },
        "id": "94uhvxg2pyaB",
        "outputId": "470a7a36-20a1-476d-f0d4-ca65b1fab0ff"
      },
      "execution_count": null,
      "outputs": [
        {
          "output_type": "stream",
          "name": "stdout",
          "text": [
            "How many passengers? 6\n",
            "Use uberXL\n"
          ]
        }
      ]
    },
    {
      "cell_type": "markdown",
      "source": [
        "Create a scientific calculator.\n",
        "The calculator should ask the user for the opertaion they want then prompt them for values(max of 2) and return the result.\n",
        " - 2 logarithmic operation\n",
        " - 3 trig operations\n",
        " - all 4 basic operations(+,-,/,*).\n",
        "Example of the flow:\n",
        "- What operation do you want to do? sin\n",
        "- Provide your value in radians. 45\n",
        "- 90\n",
        "\n",
        "in this task you will use:\n",
        "- functions\n",
        "- math package\n",
        "- if--elif--else\n",
        "- isnumeric()"
      ],
      "metadata": {
        "id": "j0HZlKZTtW5e"
      }
    },
    {
      "cell_type": "markdown",
      "source": [
        "Your defined functions like add(), subtract(), etc., don't take arguments in the way you might expect (like add(e, f)) because they prompt the user for input inside the function definition."
      ],
      "metadata": {
        "id": "NEn17XeTUFfJ"
      }
    },
    {
      "cell_type": "code",
      "source": [
        "import math\n",
        "\n",
        "#defined each math function which prompts user for values\n",
        "def add():\n",
        "  e = int(input(\"Enter the first number: \"))\n",
        "  f = int(input(\"Enter the second number: \"))\n",
        "  return e+f  #returns the sum of e and f\n",
        "\n",
        "def subtract():\n",
        "  e = int(input(\"Enter the first number: \"))\n",
        "  f = int(input(\"Enter the second number: \"))\n",
        "  return e-f\n",
        "\n",
        "def multiply():\n",
        "  e = int(input(\"Enter the first number: \"))\n",
        "  f = int(input(\"Enter the second number: \"))\n",
        "  return e*f\n",
        "\n",
        "def divide():\n",
        "  e = int(input(\"Enter the first number: \"))\n",
        "  f = int(input(\"Enter the second number: \"))\n",
        "  return e/f\n",
        "\n",
        "def sqrt():\n",
        "  e = int(input(\"Enter the number: \"))\n",
        "  return math.sqrt(e)\n",
        "\n",
        "def log():\n",
        "  e = int(input(\"Enter the number: \"))\n",
        "  return math.log(e)\n",
        "\n",
        "def cos():\n",
        "  e = int(input(\"Enter the value in degrees: \"))\n",
        "  return math.cos(math.radians(e))\n",
        "\n",
        "def sin():\n",
        "  e = int(input(\"Enter the value in degrees: \"))\n",
        "  return math.sin(math.radians(e))\n",
        "\n",
        "def tan():\n",
        "  e = int(input(\"Enter the value in degrees: \"))\n",
        "  return math.tan(math.radians(e))\n",
        "\n",
        "#output\n",
        "print(\"What operation did you want to do?\")\n",
        "print(\"1. Addition\")\n",
        "print(\"2. Subtraction\")\n",
        "print(\"3. Multiplication\")\n",
        "print(\"4. Division\")\n",
        "print(\"5. Square root\")\n",
        "print(\"6. Logarithm\")\n",
        "print(\"7. Cosine\")\n",
        "print(\"8. Sine\")\n",
        "print(\"9. Tangent\")\n",
        "\n",
        "#prompt user for which operation they want to use\n",
        "operation_input = input(\"Enter operation number? \")\n",
        "\n",
        "\n",
        "if operation_input.isnumeric():     #checks if the string stored in operation_input contains only numeric values(0-9)\n",
        "  operation = int(operation_input)  #will only execute is the isnumeric() is True\n",
        "\n",
        "  if operation == 1:    #calling my function\n",
        "    print(add())\n",
        "\n",
        "  elif operation == 2:\n",
        "    print(subtract())\n",
        "\n",
        "  elif operation == 3:\n",
        "    print(multiply())\n",
        "\n",
        "  elif operation == 4:\n",
        "    print(divide())\n",
        "\n",
        "  elif operation == 5:\n",
        "    print(sqrt())\n",
        "\n",
        "  elif operation == 6:\n",
        "    print(log())\n",
        "\n",
        "  elif operation == 7:\n",
        "    print(cos())\n",
        "\n",
        "  elif operation == 8:\n",
        "    print(sin())\n",
        "\n",
        "  elif operation == 9:\n",
        "    print(tan())\n",
        "\n",
        "  else:\n",
        "    print(\"No such operation in calculator\")\n",
        "else:\n",
        "  print(\"Invalid input. Please enter a number.\")  #if operation entered is not numeric(0-9), then its false"
      ],
      "metadata": {
        "colab": {
          "base_uri": "https://localhost:8080/"
        },
        "collapsed": true,
        "id": "9sIk_OgRpyRl",
        "outputId": "46000b0f-ef5e-44c6-d6bf-a48e33688f9c"
      },
      "execution_count": null,
      "outputs": [
        {
          "output_type": "stream",
          "name": "stdout",
          "text": [
            "What operation did you want to do?\n",
            "1. Addition\n",
            "2. Subtraction\n",
            "3. Multiplication\n",
            "4. Division\n",
            "5. Square root\n",
            "6. Logarithm\n",
            "7. Cosine\n",
            "8. Sine\n",
            "9. Tangent\n",
            "Enter operation number? 6\n",
            "Enter the number: 10\n",
            "2.302585092994046\n"
          ]
        }
      ]
    },
    {
      "cell_type": "code",
      "source": [
        "def subtract_v(j,k):\n",
        "  return j-k"
      ],
      "metadata": {
        "id": "Ibh4QedHbOhF"
      },
      "execution_count": null,
      "outputs": []
    },
    {
      "cell_type": "code",
      "source": [
        "j = 65\n",
        "k = 20\n",
        "#subtract_v(j,k)\n",
        "print(\"answer = \", subtract_v(j,k))"
      ],
      "metadata": {
        "colab": {
          "base_uri": "https://localhost:8080/"
        },
        "id": "sqV-dryf0tBX",
        "outputId": "e9c74b55-88ab-4ac2-a910-cd6e64daa06f"
      },
      "execution_count": null,
      "outputs": [
        {
          "output_type": "stream",
          "name": "stdout",
          "text": [
            "answer =  45\n"
          ]
        }
      ]
    },
    {
      "cell_type": "code",
      "source": [
        "cars = [\"merc\", \"bmw\", \"toyota\", \"hyundai\", \"kia\", \"honda\"]"
      ],
      "metadata": {
        "id": "dmfq_MbBwqSy"
      },
      "execution_count": null,
      "outputs": []
    },
    {
      "cell_type": "code",
      "source": [
        "#convert from string to list\n",
        "student_names = \"John,Mary,Edward\"\n",
        "students = student_names.split(\",\")\n",
        "print(students)"
      ],
      "metadata": {
        "colab": {
          "base_uri": "https://localhost:8080/"
        },
        "id": "xaA0nMYZsfJ5",
        "outputId": "3886a146-8905-4cf9-8fe9-dfaaf0c0893c"
      },
      "execution_count": null,
      "outputs": [
        {
          "output_type": "stream",
          "name": "stdout",
          "text": [
            "['John', 'Mary', 'Edward']\n"
          ]
        }
      ]
    },
    {
      "cell_type": "code",
      "source": [
        "len(cars)"
      ],
      "metadata": {
        "colab": {
          "base_uri": "https://localhost:8080/"
        },
        "id": "s5lnfbCrpyI-",
        "outputId": "558ea150-7d47-4c69-be58-9325acc5e473"
      },
      "execution_count": null,
      "outputs": [
        {
          "output_type": "execute_result",
          "data": {
            "text/plain": [
              "6"
            ]
          },
          "metadata": {},
          "execution_count": 82
        }
      ]
    },
    {
      "cell_type": "code",
      "source": [
        "cars[0] #index"
      ],
      "metadata": {
        "colab": {
          "base_uri": "https://localhost:8080/",
          "height": 35
        },
        "id": "N9Vw4N9gse5q",
        "outputId": "acf23bff-ce47-4965-ea74-3f607b43a3f1"
      },
      "execution_count": null,
      "outputs": [
        {
          "output_type": "execute_result",
          "data": {
            "text/plain": [
              "'merc'"
            ],
            "application/vnd.google.colaboratory.intrinsic+json": {
              "type": "string"
            }
          },
          "metadata": {},
          "execution_count": 83
        }
      ]
    },
    {
      "cell_type": "code",
      "source": [
        "cars[3]"
      ],
      "metadata": {
        "colab": {
          "base_uri": "https://localhost:8080/",
          "height": 35
        },
        "id": "i4n5xLsQsex1",
        "outputId": "5aeac2c7-5330-41c8-b5a6-f2c81e98fc63"
      },
      "execution_count": null,
      "outputs": [
        {
          "output_type": "execute_result",
          "data": {
            "text/plain": [
              "'hyundai'"
            ],
            "application/vnd.google.colaboratory.intrinsic+json": {
              "type": "string"
            }
          },
          "metadata": {},
          "execution_count": 84
        }
      ]
    },
    {
      "cell_type": "code",
      "source": [
        "len(cars)-1"
      ],
      "metadata": {
        "colab": {
          "base_uri": "https://localhost:8080/"
        },
        "id": "XhSWMVR206BS",
        "outputId": "3a225798-1c81-46a7-a955-17f3878cf236"
      },
      "execution_count": null,
      "outputs": [
        {
          "output_type": "execute_result",
          "data": {
            "text/plain": [
              "5"
            ]
          },
          "metadata": {},
          "execution_count": 85
        }
      ]
    },
    {
      "cell_type": "code",
      "source": [
        "cars[len(cars)-1]"
      ],
      "metadata": {
        "colab": {
          "base_uri": "https://localhost:8080/",
          "height": 35
        },
        "id": "RWdaWGto0ct1",
        "outputId": "f87da951-74ea-4287-cf0a-e2d13374b622"
      },
      "execution_count": null,
      "outputs": [
        {
          "output_type": "execute_result",
          "data": {
            "text/plain": [
              "'honda'"
            ],
            "application/vnd.google.colaboratory.intrinsic+json": {
              "type": "string"
            }
          },
          "metadata": {},
          "execution_count": 86
        }
      ]
    },
    {
      "cell_type": "code",
      "source": [
        "cars[-1]"
      ],
      "metadata": {
        "colab": {
          "base_uri": "https://localhost:8080/",
          "height": 35
        },
        "id": "oxLQXEfr0cqt",
        "outputId": "e790c63e-0e8e-4529-da6e-96a682f47c8b"
      },
      "execution_count": null,
      "outputs": [
        {
          "output_type": "execute_result",
          "data": {
            "text/plain": [
              "'honda'"
            ],
            "application/vnd.google.colaboratory.intrinsic+json": {
              "type": "string"
            }
          },
          "metadata": {},
          "execution_count": 87
        }
      ]
    },
    {
      "cell_type": "code",
      "source": [
        "cars.index(\"bmw\")"
      ],
      "metadata": {
        "colab": {
          "base_uri": "https://localhost:8080/"
        },
        "id": "eHS34BBp0cn2",
        "outputId": "6636ac09-5696-4d46-c2e4-3337364c49ef"
      },
      "execution_count": null,
      "outputs": [
        {
          "output_type": "execute_result",
          "data": {
            "text/plain": [
              "1"
            ]
          },
          "metadata": {},
          "execution_count": 88
        }
      ]
    },
    {
      "cell_type": "code",
      "source": [
        "#accessing a range of values (slicing)\n",
        "#it omits the value\n",
        "\n",
        "#cars = [\"merc\", \"bmw\", \"toyota\", \"hyundai\", \"kia\", \"honda\"]\n",
        "cars[0:3]"
      ],
      "metadata": {
        "colab": {
          "base_uri": "https://localhost:8080/"
        },
        "id": "P3lfk2CG0clP",
        "outputId": "8be0a9cb-7e01-4c75-a6dc-55de4e4381ec"
      },
      "execution_count": null,
      "outputs": [
        {
          "output_type": "execute_result",
          "data": {
            "text/plain": [
              "['merc', 'bmw', 'toyota']"
            ]
          },
          "metadata": {},
          "execution_count": 89
        }
      ]
    },
    {
      "cell_type": "code",
      "source": [
        "cars[4:]    #obtains from index 4 until the end"
      ],
      "metadata": {
        "colab": {
          "base_uri": "https://localhost:8080/"
        },
        "id": "MrnUrQT60cis",
        "outputId": "8d74abf8-61ca-4175-9ead-888a9c56bc08"
      },
      "execution_count": null,
      "outputs": [
        {
          "output_type": "execute_result",
          "data": {
            "text/plain": [
              "['kia', 'honda']"
            ]
          },
          "metadata": {},
          "execution_count": 90
        }
      ]
    },
    {
      "cell_type": "code",
      "source": [
        "cars[:5]    #obtains from the first value until last value-1"
      ],
      "metadata": {
        "colab": {
          "base_uri": "https://localhost:8080/"
        },
        "id": "w0PT7xgM3YIR",
        "outputId": "8ea8da6f-427f-4d0d-89f5-3bd2bea55e26"
      },
      "execution_count": null,
      "outputs": [
        {
          "output_type": "execute_result",
          "data": {
            "text/plain": [
              "['merc', 'bmw', 'toyota', 'hyundai', 'kia']"
            ]
          },
          "metadata": {},
          "execution_count": 91
        }
      ]
    },
    {
      "cell_type": "code",
      "source": [
        "cars[0::2]      #starts from index 0 then gets each second value, if it was 3 then gets each third value"
      ],
      "metadata": {
        "colab": {
          "base_uri": "https://localhost:8080/"
        },
        "id": "oZfZKsBE2Sm7",
        "outputId": "ebd8c917-2d30-46b2-adb7-15a23fe5d459"
      },
      "execution_count": null,
      "outputs": [
        {
          "output_type": "execute_result",
          "data": {
            "text/plain": [
              "['merc', 'toyota', 'kia']"
            ]
          },
          "metadata": {},
          "execution_count": 92
        }
      ]
    },
    {
      "cell_type": "code",
      "source": [
        "cars[::-1]    #reverses the list"
      ],
      "metadata": {
        "colab": {
          "base_uri": "https://localhost:8080/"
        },
        "id": "CYhu05w12Skd",
        "outputId": "d2bd9bec-755f-4d86-a081-3d164dc650a7"
      },
      "execution_count": null,
      "outputs": [
        {
          "output_type": "execute_result",
          "data": {
            "text/plain": [
              "['honda', 'kia', 'hyundai', 'toyota', 'bmw', 'merc']"
            ]
          },
          "metadata": {},
          "execution_count": 93
        }
      ]
    },
    {
      "cell_type": "code",
      "source": [
        "#adding items to a list\n",
        "names=[\"Steve\",\"Mark\"]\n",
        "names.append(\"Juliet\")\n",
        "print(names)"
      ],
      "metadata": {
        "colab": {
          "base_uri": "https://localhost:8080/"
        },
        "id": "EUO-URn638ra",
        "outputId": "7dbc04aa-533b-44b4-b1a3-1c549d0622ca"
      },
      "execution_count": null,
      "outputs": [
        {
          "output_type": "stream",
          "name": "stdout",
          "text": [
            "['Steve', 'Mark', 'Juliet']\n"
          ]
        }
      ]
    },
    {
      "cell_type": "code",
      "source": [
        "#replace with new value\n",
        "names[0]=\"Matthew\"\n",
        "print(names)"
      ],
      "metadata": {
        "colab": {
          "base_uri": "https://localhost:8080/"
        },
        "id": "0RRVN99T38of",
        "outputId": "bf77d19c-97c1-4326-ae78-f407ac61db20"
      },
      "execution_count": null,
      "outputs": [
        {
          "output_type": "stream",
          "name": "stdout",
          "text": [
            "['Matthew', 'Mark', 'Juliet']\n"
          ]
        }
      ]
    },
    {
      "cell_type": "code",
      "source": [
        "cars[0] = \"Isuzu\"   #replace with new value"
      ],
      "metadata": {
        "id": "PM_8CkAz38lr"
      },
      "execution_count": null,
      "outputs": []
    },
    {
      "cell_type": "code",
      "source": [
        "cars"
      ],
      "metadata": {
        "colab": {
          "base_uri": "https://localhost:8080/"
        },
        "id": "n8-x55p56hYP",
        "outputId": "9ad3b467-08e2-4acd-b31c-2062767833da"
      },
      "execution_count": null,
      "outputs": [
        {
          "output_type": "execute_result",
          "data": {
            "text/plain": [
              "['Isuzu', 'bmw', 'toyota', 'hyundai', 'kia', 'honda']"
            ]
          },
          "metadata": {},
          "execution_count": 97
        }
      ]
    },
    {
      "cell_type": "code",
      "source": [
        "cars.reverse()"
      ],
      "metadata": {
        "id": "xUG2ZjiW6oDY"
      },
      "execution_count": null,
      "outputs": []
    },
    {
      "cell_type": "code",
      "source": [
        "cars"
      ],
      "metadata": {
        "colab": {
          "base_uri": "https://localhost:8080/"
        },
        "id": "p0GHtUwz65-c",
        "outputId": "e1894253-6405-4696-f3bc-972754bda715"
      },
      "execution_count": null,
      "outputs": [
        {
          "output_type": "execute_result",
          "data": {
            "text/plain": [
              "['honda', 'kia', 'hyundai', 'toyota', 'bmw', 'Isuzu']"
            ]
          },
          "metadata": {},
          "execution_count": 99
        }
      ]
    },
    {
      "cell_type": "code",
      "source": [
        "cars+[\"byd\",\"porsche\"]"
      ],
      "metadata": {
        "colab": {
          "base_uri": "https://localhost:8080/"
        },
        "id": "5ioaX2a669GM",
        "outputId": "5d00651a-5854-461a-e230-0fd1ab7cc5bf"
      },
      "execution_count": null,
      "outputs": [
        {
          "output_type": "execute_result",
          "data": {
            "text/plain": [
              "['honda', 'kia', 'hyundai', 'toyota', 'bmw', 'Isuzu', 'byd', 'porsche']"
            ]
          },
          "metadata": {},
          "execution_count": 100
        }
      ]
    },
    {
      "cell_type": "code",
      "source": [
        "#list operations\n",
        "cars.sort()"
      ],
      "metadata": {
        "id": "juV-6Vfl687Y"
      },
      "execution_count": null,
      "outputs": []
    },
    {
      "cell_type": "code",
      "source": [
        "cars    #started with the capital letter"
      ],
      "metadata": {
        "colab": {
          "base_uri": "https://localhost:8080/"
        },
        "id": "wIwE8g5L6oAQ",
        "outputId": "d98072f6-a395-4c2d-b18e-5ed97619516d"
      },
      "execution_count": null,
      "outputs": [
        {
          "output_type": "execute_result",
          "data": {
            "text/plain": [
              "['Isuzu', 'bmw', 'honda', 'hyundai', 'kia', 'toyota']"
            ]
          },
          "metadata": {},
          "execution_count": 102
        }
      ]
    },
    {
      "cell_type": "code",
      "source": [
        "student_marks = [10,14,8,16,7,8,15,12,14]\n",
        "sum(student_marks)"
      ],
      "metadata": {
        "colab": {
          "base_uri": "https://localhost:8080/"
        },
        "id": "jVjlrC1Q6n9s",
        "outputId": "eb54ecdc-31ba-4e35-d833-3e4d0cb4a74f"
      },
      "execution_count": null,
      "outputs": [
        {
          "output_type": "execute_result",
          "data": {
            "text/plain": [
              "104"
            ]
          },
          "metadata": {},
          "execution_count": 103
        }
      ]
    },
    {
      "cell_type": "code",
      "source": [
        "max(student_marks)"
      ],
      "metadata": {
        "colab": {
          "base_uri": "https://localhost:8080/"
        },
        "id": "bDnYCYde6n0z",
        "outputId": "5ff13c7c-1e57-465b-c32f-3d656103acd8"
      },
      "execution_count": null,
      "outputs": [
        {
          "output_type": "execute_result",
          "data": {
            "text/plain": [
              "16"
            ]
          },
          "metadata": {},
          "execution_count": 104
        }
      ]
    },
    {
      "cell_type": "code",
      "source": [
        "min(student_marks)"
      ],
      "metadata": {
        "colab": {
          "base_uri": "https://localhost:8080/"
        },
        "id": "v6U6Tm6G-S2o",
        "outputId": "51260e37-b072-4b8a-fcf2-8b0d83df6a83"
      },
      "execution_count": null,
      "outputs": [
        {
          "output_type": "execute_result",
          "data": {
            "text/plain": [
              "7"
            ]
          },
          "metadata": {},
          "execution_count": 105
        }
      ]
    },
    {
      "cell_type": "code",
      "source": [
        "average = sum(student_marks)/len(student_marks)\n",
        "average"
      ],
      "metadata": {
        "colab": {
          "base_uri": "https://localhost:8080/"
        },
        "id": "3MQKzNny-S0Q",
        "outputId": "fdb0c4df-01b0-475c-d57a-31283ed459c9"
      },
      "execution_count": null,
      "outputs": [
        {
          "output_type": "execute_result",
          "data": {
            "text/plain": [
              "11.555555555555555"
            ]
          },
          "metadata": {},
          "execution_count": 106
        }
      ]
    },
    {
      "cell_type": "code",
      "source": [
        "set(student_marks)    #get a list with only unique values and sorts them even"
      ],
      "metadata": {
        "colab": {
          "base_uri": "https://localhost:8080/"
        },
        "id": "bfyDG97l-SrY",
        "outputId": "0c759226-e8c9-4140-f9bd-465e1d10e722"
      },
      "execution_count": null,
      "outputs": [
        {
          "output_type": "execute_result",
          "data": {
            "text/plain": [
              "{7, 8, 10, 12, 14, 15, 16}"
            ]
          },
          "metadata": {},
          "execution_count": 107
        }
      ]
    },
    {
      "cell_type": "code",
      "source": [
        "#loops in a list\n",
        "for car in cars:      #variable name car can be anything like x\n",
        "  print(car.lower())"
      ],
      "metadata": {
        "colab": {
          "base_uri": "https://localhost:8080/"
        },
        "id": "wuUWArre6nx8",
        "outputId": "3bce5e97-6d30-43ee-8cc6-ce184e2cac62"
      },
      "execution_count": null,
      "outputs": [
        {
          "output_type": "stream",
          "name": "stdout",
          "text": [
            "isuzu\n",
            "bmw\n",
            "honda\n",
            "hyundai\n",
            "kia\n",
            "toyota\n"
          ]
        }
      ]
    },
    {
      "cell_type": "code",
      "source": [
        "#loops in a list\n",
        "for car in cars:      #variable name car can be anything like x\n",
        "  print(car.upper())"
      ],
      "metadata": {
        "colab": {
          "base_uri": "https://localhost:8080/"
        },
        "id": "X8RFeX3B6nvT",
        "outputId": "25950810-9309-40a0-9d48-074be827f6aa"
      },
      "execution_count": null,
      "outputs": [
        {
          "output_type": "stream",
          "name": "stdout",
          "text": [
            "ISUZU\n",
            "BMW\n",
            "HONDA\n",
            "HYUNDAI\n",
            "KIA\n",
            "TOYOTA\n"
          ]
        }
      ]
    },
    {
      "cell_type": "code",
      "source": [
        "#Each order is represented as a list: [customer_name, item, quantity, price_per_item, delivery_status]\n",
        "orders = [\n",
        "    [\"Alice\", \"Laptop\", 1, 750, \"delivered\"],\n",
        "    [\"Bob\", \"Phone\", 2, 400, \"pending\"],\n",
        "    [\"Charlie\", \"Headphones\", 1, 150, \"deli vered\"],\n",
        "    [\"David\", \"Phone\", \"two\", 400, \"delivered\"], # wrong quantity format\n",
        "    [\"Eve\", \"Monitor\", 1, \"two hundred\", \"delivered \"], # price is a string\n",
        "    [\"Frank\", \"Keyboard\", 1, 50, \"p3nding\"],\n",
        "    [\"Grace\", \"Mouse\", 1, 30, \"delivered\"],\n",
        "    [\"Heidi\", \"Laptop\", 2, 750, \"cancelled\"],\n",
        "    [\"Ivan\", \"Phone\", 1, 400, \"Delivered\"], # case inconsistency\n",
        "    [\"Judy\", \"\", 1, 150, \"delivered\"], # missing item infer by price of item ]\n",
        "]\n",
        "#cleaning data\n",
        "#total amount spent\n",
        "#avearge amount spent\n",
        "#name of customer with highest amount spent\n",
        "#lowest amount spent\n",
        "#most sold item\n",
        "#number of undelivered items"
      ],
      "metadata": {
        "id": "DoEIO5R6_NZG"
      },
      "execution_count": null,
      "outputs": []
    },
    {
      "cell_type": "code",
      "source": [
        "#loop in list\n",
        "for order in orders:\n",
        "\n",
        "  #clean delivery_status in index 4\n",
        "  if type(order[4]) == str:     #checks if index 4 is string\n",
        "    order[4] = order[4].replace(\" \", \"\").lower().replace(\"3\", \"e\")\n",
        "\n",
        "  #clean quantity in index 2\n",
        "  if type(order[2]) == str:\n",
        "    if order[2] == \"two\":     #checks if quantity \"two\" is true\n",
        "      order[2] = 2            #if true replaces \"two\" w/ 2\n",
        "\n",
        "  #clean price in index 3\n",
        "  if type(order[3]) == str:\n",
        "    if order[3] == \"two hundred\":\n",
        "      order[3] = 200\n",
        "\n",
        "  #clean item in index 1\n",
        "  if type(order[1]) == str:\n",
        "    if order[1] == \"\":\n",
        "     order[1] = \"Headphones\"\n",
        "\n",
        "  print(order)"
      ],
      "metadata": {
        "colab": {
          "base_uri": "https://localhost:8080/"
        },
        "id": "3Y35dwj0tFTn",
        "outputId": "32ba14d5-b537-424f-cd40-70576da1149e",
        "collapsed": true
      },
      "execution_count": null,
      "outputs": [
        {
          "output_type": "stream",
          "name": "stdout",
          "text": [
            "['Alice', 'Laptop', 1, 750, 'delivered']\n",
            "['Bob', 'Phone', 2, 400, 'pending']\n",
            "['Charlie', 'Headphones', 1, 150, 'delivered']\n",
            "['David', 'Phone', 2, 400, 'delivered']\n",
            "['Eve', 'Monitor', 1, 200, 'delivered']\n",
            "['Frank', 'Keyboard', 1, 50, 'pending']\n",
            "['Grace', 'Mouse', 1, 30, 'delivered']\n",
            "['Heidi', 'Laptop', 2, 750, 'cancelled']\n",
            "['Ivan', 'Phone', 1, 400, 'delivered']\n",
            "['Judy', 'Headphones', 1, 150, 'delivered']\n"
          ]
        }
      ]
    },
    {
      "cell_type": "code",
      "source": [
        "total_amounts_list = [] #Create an empty list to store total amounts\n",
        "\n",
        "#loop in list to get total amount spent by each customer\n",
        "\n",
        "for order in orders:\n",
        "    quantity = order[2]\n",
        "    price_per_item = order[3]\n",
        "    total_amount = quantity * price_per_item\n",
        "    total_amounts_list.append(total_amount) # Add the total amount for the current order to the list\n",
        "    print(\"Customer:\", order[0], \"\", \"Total Amount:\", total_amount)"
      ],
      "metadata": {
        "colab": {
          "base_uri": "https://localhost:8080/"
        },
        "collapsed": true,
        "id": "ch74jXzH67Y_",
        "outputId": "d89d378b-b8e9-44b0-9f29-ee91f2e99bc9"
      },
      "execution_count": null,
      "outputs": [
        {
          "output_type": "stream",
          "name": "stdout",
          "text": [
            "Customer: Alice  Total Amount: 750\n",
            "Customer: Bob  Total Amount: 800\n",
            "Customer: Charlie  Total Amount: 150\n",
            "Customer: David  Total Amount: 800\n",
            "Customer: Eve  Total Amount: 200\n",
            "Customer: Frank  Total Amount: 50\n",
            "Customer: Grace  Total Amount: 30\n",
            "Customer: Heidi  Total Amount: 1500\n",
            "Customer: Ivan  Total Amount: 400\n",
            "Customer: Judy  Total Amount: 150\n"
          ]
        }
      ]
    },
    {
      "cell_type": "code",
      "source": [
        "full_total_amount = sum(total_amounts_list)   #sum the list of total amounts\n",
        "print(\"Full Total Amount:\", full_total_amount)"
      ],
      "metadata": {
        "colab": {
          "base_uri": "https://localhost:8080/"
        },
        "id": "qhCUn3bpBS4D",
        "outputId": "5eb5de8a-8216-4a53-d829-2ff2aa62da3e",
        "collapsed": true
      },
      "execution_count": null,
      "outputs": [
        {
          "output_type": "stream",
          "name": "stdout",
          "text": [
            "Full Total Amount: 4830\n"
          ]
        }
      ]
    },
    {
      "cell_type": "code",
      "source": [
        "num_of_orders = len(orders)\n",
        "print(\"Number of Orders:\", num_of_orders)"
      ],
      "metadata": {
        "colab": {
          "base_uri": "https://localhost:8080/"
        },
        "id": "bauQDXSKAVlh",
        "outputId": "48df1c04-b610-45b4-a656-af568ff8d06e",
        "collapsed": true
      },
      "execution_count": null,
      "outputs": [
        {
          "output_type": "stream",
          "name": "stdout",
          "text": [
            "Number of Orders: 10\n"
          ]
        }
      ]
    },
    {
      "cell_type": "code",
      "source": [
        "average_amount = sum(total_amounts_list)/len(orders)\n",
        "print(\"Average amount spent:\", average_amount)"
      ],
      "metadata": {
        "colab": {
          "base_uri": "https://localhost:8080/"
        },
        "id": "4gtwmcQzAVTa",
        "outputId": "50e95bcd-f97d-4107-b4e8-23a60f10347d",
        "collapsed": true
      },
      "execution_count": null,
      "outputs": [
        {
          "output_type": "stream",
          "name": "stdout",
          "text": [
            "Average amount spent: 483.0\n"
          ]
        }
      ]
    },
    {
      "cell_type": "code",
      "source": [
        "#gets highest total amount\n",
        "max_amount = max(total_amounts_list)\n",
        "\n",
        "#find index of the max value in the list\n",
        "max_index = total_amounts_list.index(max_amount)\n",
        "\n",
        "#gets order w/ max total amount & then gets customer name\n",
        "customer_max_spent = orders[max_index][0]\n",
        "\n",
        "#gets lowest total amount\n",
        "min_amount = min(total_amounts_list)\n",
        "\n",
        "#find index of the min value in the list\n",
        "min_index = total_amounts_list.index(min_amount)\n",
        "\n",
        "#gets order w/ min total amount & then gets customer name\n",
        "customer_min_spent = orders[min_index][0]\n",
        "\n",
        "print(\"Customer who spent the highest: \", customer_max_spent, \" Amount: \", max_amount)\n",
        "print(\"Customer who spent the lowest: \", customer_min_spent, \" Amount: \", min_amount)"
      ],
      "metadata": {
        "colab": {
          "base_uri": "https://localhost:8080/"
        },
        "id": "nNqe8NOrEOYK",
        "outputId": "77c27479-62a5-495e-b853-e0dd66ffa76a",
        "collapsed": true
      },
      "execution_count": null,
      "outputs": [
        {
          "output_type": "stream",
          "name": "stdout",
          "text": [
            "Customer who spent the highest:  Heidi  Amount:  1500\n",
            "Customer who spent the lowest:  Grace  Amount:  30\n"
          ]
        }
      ]
    },
    {
      "cell_type": "code",
      "source": [
        "#creat empty dictionary to store item sales\n",
        "item_sales = {}\n",
        "\n",
        "#loop through orders\n",
        "for order in orders:\n",
        "  item = order[1]\n",
        "  quantity = order[2]\n",
        "\n",
        "#if item is in item sales then update count & quantity\n",
        "  if item in item_sales:\n",
        "    item_sales[item]['count'] += 1\n",
        "    item_sales[item]['quantity'] += quantity\n",
        "  else:\n",
        "    item_sales[item] = {'count': 1, 'quantity': quantity}   #if item is not in item_sales, add it with initial count and quantity\n",
        "\n",
        "most_sold_item = None\n",
        "max_quantity = 0\n",
        "\n",
        "#loop through the item_sales dictionary to find the item with the max quantity\n",
        "for item, data in item_sales.items():\n",
        "  if data['quantity'] > max_quantity:\n",
        "    max_quantity = data['quantity']\n",
        "    most_sold_item = item\n",
        "\n",
        "print(\"The most sold item based on total quantity sold is:\", most_sold_item)\n",
        "print(\"The total quantity sold for\", most_sold_item, \"is:\", max_quantity)"
      ],
      "metadata": {
        "colab": {
          "base_uri": "https://localhost:8080/"
        },
        "id": "ckFpr_YMODN9",
        "outputId": "31b3637a-8cfc-4293-efe1-cd4a624dfa6f"
      },
      "execution_count": null,
      "outputs": [
        {
          "output_type": "stream",
          "name": "stdout",
          "text": [
            "The most sold item based on total quantity sold is: Phone\n",
            "The total quantity sold for Phone is: 5\n"
          ]
        }
      ]
    },
    {
      "cell_type": "code",
      "source": [
        "total_quantity = 0    #start counting from zero\n",
        "\n",
        "for order in orders:        #loop in list\n",
        "  delivery_status = order[4]    #assign to index 4\n",
        "  quantity = order[2]           #assign to index 2\n",
        "  if delivery_status != \"delivered\":\n",
        "    total_quantity = total_quantity + quantity    #adds matched quantity to the total quantity\n",
        "\n",
        "print(\"Number of undelivered items: \", total_quantity)"
      ],
      "metadata": {
        "id": "Fem5LTcpHyDL",
        "colab": {
          "base_uri": "https://localhost:8080/"
        },
        "outputId": "bcd9f8b9-8210-40c8-e7f9-d73768294b8f"
      },
      "execution_count": null,
      "outputs": [
        {
          "output_type": "stream",
          "name": "stdout",
          "text": [
            "Number of undelivered items:  5\n"
          ]
        }
      ]
    },
    {
      "cell_type": "code",
      "source": [],
      "metadata": {
        "id": "dRVE_pscqEoF"
      },
      "execution_count": null,
      "outputs": []
    },
    {
      "cell_type": "markdown",
      "source": [
        "Tuple"
      ],
      "metadata": {
        "id": "Wtd3sfmZDMpJ"
      }
    },
    {
      "cell_type": "code",
      "source": [
        "names = ('John', 'Mary', 'Peter')\n"
      ],
      "metadata": {
        "id": "GFuZcLTDqElg"
      },
      "execution_count": null,
      "outputs": []
    },
    {
      "cell_type": "code",
      "source": [
        "len(names)"
      ],
      "metadata": {
        "id": "dkeJwkqpHx9N",
        "colab": {
          "base_uri": "https://localhost:8080/"
        },
        "outputId": "2fc70919-c817-48b6-b966-00dab1ec8a22"
      },
      "execution_count": null,
      "outputs": [
        {
          "output_type": "execute_result",
          "data": {
            "text/plain": [
              "3"
            ]
          },
          "metadata": {},
          "execution_count": 41
        }
      ]
    },
    {
      "cell_type": "code",
      "source": [
        "student_1, student_2, student_3 = names"
      ],
      "metadata": {
        "id": "gu3RC8JhHx6W"
      },
      "execution_count": null,
      "outputs": []
    },
    {
      "cell_type": "code",
      "source": [
        "print(student_1)"
      ],
      "metadata": {
        "id": "yzIHjVexHx3e",
        "colab": {
          "base_uri": "https://localhost:8080/"
        },
        "outputId": "9295ba9d-fbbe-4577-db6f-f511872c12d3"
      },
      "execution_count": null,
      "outputs": [
        {
          "output_type": "stream",
          "name": "stdout",
          "text": [
            "John\n"
          ]
        }
      ]
    },
    {
      "cell_type": "code",
      "source": [
        "list_of_names = list(names)\n",
        "print(list_of_names)"
      ],
      "metadata": {
        "colab": {
          "base_uri": "https://localhost:8080/"
        },
        "id": "WfmXKaXfFAa3",
        "outputId": "1d7954d1-ce3c-47ce-d8d9-ce01050d1fd5"
      },
      "execution_count": null,
      "outputs": [
        {
          "output_type": "stream",
          "name": "stdout",
          "text": [
            "['John', 'Mary', 'Peter']\n"
          ]
        }
      ]
    },
    {
      "cell_type": "code",
      "source": [
        "tuple(list_of_names)"
      ],
      "metadata": {
        "colab": {
          "base_uri": "https://localhost:8080/"
        },
        "id": "NGuC3eRoFKDQ",
        "outputId": "55021266-6e32-444b-8859-3da9b674168f"
      },
      "execution_count": null,
      "outputs": [
        {
          "output_type": "execute_result",
          "data": {
            "text/plain": [
              "('John', 'Mary', 'Peter')"
            ]
          },
          "metadata": {},
          "execution_count": 50
        }
      ]
    },
    {
      "cell_type": "code",
      "source": [
        "names[0]"
      ],
      "metadata": {
        "colab": {
          "base_uri": "https://localhost:8080/",
          "height": 35
        },
        "id": "Mm-rnMBFFblG",
        "outputId": "a00a42fa-a538-4d30-849b-1c99c59d6e0e"
      },
      "execution_count": null,
      "outputs": [
        {
          "output_type": "execute_result",
          "data": {
            "text/plain": [
              "'John'"
            ],
            "application/vnd.google.colaboratory.intrinsic+json": {
              "type": "string"
            }
          },
          "metadata": {},
          "execution_count": 51
        }
      ]
    },
    {
      "cell_type": "code",
      "source": [
        "names[2]"
      ],
      "metadata": {
        "colab": {
          "base_uri": "https://localhost:8080/",
          "height": 35
        },
        "id": "bDnhh7eJFe-h",
        "outputId": "58a296c3-93fd-41cf-c16f-e6bbfbbe664c"
      },
      "execution_count": null,
      "outputs": [
        {
          "output_type": "execute_result",
          "data": {
            "text/plain": [
              "'Peter'"
            ],
            "application/vnd.google.colaboratory.intrinsic+json": {
              "type": "string"
            }
          },
          "metadata": {},
          "execution_count": 52
        }
      ]
    },
    {
      "cell_type": "code",
      "source": [
        "def add_sub(a,b):\n",
        "  sum = a+b\n",
        "  diff = a-b\n",
        "  return(sum,diff)"
      ],
      "metadata": {
        "id": "Gu7IEkNVHx0V"
      },
      "execution_count": null,
      "outputs": []
    },
    {
      "cell_type": "code",
      "source": [
        "add_sub(2,3)"
      ],
      "metadata": {
        "id": "t_sT9E8MHxxV",
        "colab": {
          "base_uri": "https://localhost:8080/"
        },
        "outputId": "904bb734-e6dd-4e1e-ad4e-ebab99d4c96c"
      },
      "execution_count": null,
      "outputs": [
        {
          "output_type": "execute_result",
          "data": {
            "text/plain": [
              "(5, -1)"
            ]
          },
          "metadata": {},
          "execution_count": 45
        }
      ]
    },
    {
      "cell_type": "code",
      "source": [
        "addition_a, subtraction_a = add_sub(10,10)"
      ],
      "metadata": {
        "id": "zIWdgkIOHxuX"
      },
      "execution_count": null,
      "outputs": []
    },
    {
      "cell_type": "code",
      "source": [
        "print(addition_a)\n",
        "print(subtraction_a)"
      ],
      "metadata": {
        "id": "sHbh29U5HxrP",
        "colab": {
          "base_uri": "https://localhost:8080/"
        },
        "outputId": "2c67a938-8ed1-4037-8c81-6f7f2d82b7cd"
      },
      "execution_count": null,
      "outputs": [
        {
          "output_type": "stream",
          "name": "stdout",
          "text": [
            "20\n",
            "0\n"
          ]
        }
      ]
    },
    {
      "cell_type": "code",
      "source": [
        "student_ages=[\"John\", 20, \"Mary\", 18]\n",
        "students = []\n",
        "ages = []\n",
        "for item in student_ages:\n",
        "  if type(item)==str:\n",
        "    students.append(item)\n",
        "  else:\n",
        "    ages.append(item)\n",
        "print(students)\n",
        "print(ages)\n"
      ],
      "metadata": {
        "id": "i5_kDyIOHxoW",
        "colab": {
          "base_uri": "https://localhost:8080/"
        },
        "outputId": "646f3e47-0fa0-4c25-cac2-8ef6bd6b8f26"
      },
      "execution_count": null,
      "outputs": [
        {
          "output_type": "stream",
          "name": "stdout",
          "text": [
            "['John', 'Mary']\n",
            "[20, 18]\n"
          ]
        }
      ]
    },
    {
      "cell_type": "markdown",
      "source": [
        "**DICTIONARIES**"
      ],
      "metadata": {
        "id": "g9xsnr0UIcfj"
      }
    },
    {
      "cell_type": "code",
      "source": [
        "student_points = {\"John\": 30,\n",
        "                  \"Mary\" :18,\n",
        "                  \"Peter\" :40\n",
        "                  }\n",
        "print(student_points)"
      ],
      "metadata": {
        "id": "z1l3tiXZHxlX",
        "colab": {
          "base_uri": "https://localhost:8080/"
        },
        "outputId": "5d4a01e1-2d5f-414d-dc02-d25844177c86"
      },
      "execution_count": null,
      "outputs": [
        {
          "output_type": "stream",
          "name": "stdout",
          "text": [
            "{'John': 30, 'Mary': 18, 'Peter': 40}\n"
          ]
        }
      ]
    },
    {
      "cell_type": "code",
      "source": [
        "student_points[\"John\"]    #keys are used to access the value"
      ],
      "metadata": {
        "id": "HgjtkbrOHxiX",
        "colab": {
          "base_uri": "https://localhost:8080/"
        },
        "outputId": "607a9705-3097-4880-df5b-1d91d20a1159"
      },
      "execution_count": null,
      "outputs": [
        {
          "output_type": "execute_result",
          "data": {
            "text/plain": [
              "30"
            ]
          },
          "metadata": {},
          "execution_count": 58
        }
      ]
    },
    {
      "cell_type": "code",
      "source": [
        "#to assign a new value to John\n",
        "student_points[\"John\"] = 50\n",
        "student_points"
      ],
      "metadata": {
        "id": "Bz9h22PsHxfP",
        "colab": {
          "base_uri": "https://localhost:8080/"
        },
        "outputId": "07faa2dc-dfa9-44f3-ebe0-cbe89a3df0ec"
      },
      "execution_count": null,
      "outputs": [
        {
          "output_type": "execute_result",
          "data": {
            "text/plain": [
              "{'John': 50, 'Mary': 18, 'Peter': 40}"
            ]
          },
          "metadata": {},
          "execution_count": 59
        }
      ]
    },
    {
      "cell_type": "code",
      "source": [
        "#append\n",
        "student_points[\"Edwards\"] = 45"
      ],
      "metadata": {
        "id": "EC_xobW6HxcX"
      },
      "execution_count": null,
      "outputs": []
    },
    {
      "cell_type": "code",
      "source": [
        "student_points"
      ],
      "metadata": {
        "id": "ZatN1JovHxZp",
        "colab": {
          "base_uri": "https://localhost:8080/"
        },
        "outputId": "9f464221-b85a-430e-f6b4-873e3e56883d"
      },
      "execution_count": null,
      "outputs": [
        {
          "output_type": "execute_result",
          "data": {
            "text/plain": [
              "{'John': 50, 'Mary': 18, 'Peter': 40, 'Edwards': 45}"
            ]
          },
          "metadata": {},
          "execution_count": 61
        }
      ]
    },
    {
      "cell_type": "code",
      "source": [
        "student_points.pop(\"John\")"
      ],
      "metadata": {
        "id": "2lmaII_qHxWh",
        "colab": {
          "base_uri": "https://localhost:8080/"
        },
        "outputId": "6510ac6e-2893-492b-a853-5776f5f7511f"
      },
      "execution_count": null,
      "outputs": [
        {
          "output_type": "execute_result",
          "data": {
            "text/plain": [
              "50"
            ]
          },
          "metadata": {},
          "execution_count": 62
        }
      ]
    },
    {
      "cell_type": "code",
      "source": [
        "student_points"
      ],
      "metadata": {
        "id": "Wz5J46FOHxTp",
        "colab": {
          "base_uri": "https://localhost:8080/"
        },
        "outputId": "30096da4-bfe0-46c4-e5d4-fc7392b1de14"
      },
      "execution_count": null,
      "outputs": [
        {
          "output_type": "execute_result",
          "data": {
            "text/plain": [
              "{'Mary': 18, 'Peter': 40, 'Edwards': 45}"
            ]
          },
          "metadata": {},
          "execution_count": 63
        }
      ]
    },
    {
      "cell_type": "code",
      "source": [
        "student_points.keys()"
      ],
      "metadata": {
        "id": "kXdRPlrsHxQr",
        "colab": {
          "base_uri": "https://localhost:8080/"
        },
        "outputId": "4a708e1a-981e-4609-ea8a-80b3fa713ef3"
      },
      "execution_count": null,
      "outputs": [
        {
          "output_type": "execute_result",
          "data": {
            "text/plain": [
              "dict_keys(['Mary', 'Peter', 'Edwards'])"
            ]
          },
          "metadata": {},
          "execution_count": 64
        }
      ]
    },
    {
      "cell_type": "code",
      "source": [
        "student_points.values()"
      ],
      "metadata": {
        "id": "BWY3fL_XHxNy",
        "colab": {
          "base_uri": "https://localhost:8080/"
        },
        "outputId": "bfa1b9d4-aa65-46a0-e310-16fd0a7c4b0d"
      },
      "execution_count": null,
      "outputs": [
        {
          "output_type": "execute_result",
          "data": {
            "text/plain": [
              "dict_values([18, 40, 45])"
            ]
          },
          "metadata": {},
          "execution_count": 71
        }
      ]
    },
    {
      "cell_type": "code",
      "source": [
        "max(student_points.values())"
      ],
      "metadata": {
        "colab": {
          "base_uri": "https://localhost:8080/"
        },
        "id": "9FJoeF2NMQNy",
        "outputId": "d5706e45-a707-47d7-8034-1cf6c45cd9f4"
      },
      "execution_count": null,
      "outputs": [
        {
          "output_type": "execute_result",
          "data": {
            "text/plain": [
              "45"
            ]
          },
          "metadata": {},
          "execution_count": 72
        }
      ]
    },
    {
      "cell_type": "code",
      "source": [
        "student_points.items()      #tuple pairs of key & values"
      ],
      "metadata": {
        "id": "FfwkEQv8HxKs",
        "colab": {
          "base_uri": "https://localhost:8080/"
        },
        "outputId": "026ebdbe-4b8c-4b99-bf93-c0db0e87a0cf"
      },
      "execution_count": null,
      "outputs": [
        {
          "output_type": "execute_result",
          "data": {
            "text/plain": [
              "dict_items([('Mary', 18), ('Peter', 40), ('Edwards', 45)])"
            ]
          },
          "metadata": {},
          "execution_count": 66
        }
      ]
    },
    {
      "cell_type": "code",
      "source": [
        "for keys in student_points.keys():\n",
        "  print(keys)"
      ],
      "metadata": {
        "id": "MVYNWLIpEOVN",
        "colab": {
          "base_uri": "https://localhost:8080/"
        },
        "outputId": "34f91b6c-d75c-4412-d7f9-93d520c7744e"
      },
      "execution_count": null,
      "outputs": [
        {
          "output_type": "stream",
          "name": "stdout",
          "text": [
            "Mary\n",
            "Peter\n",
            "Edwards\n"
          ]
        }
      ]
    },
    {
      "cell_type": "code",
      "source": [
        "for points in student_points.values():\n",
        "  print(points)"
      ],
      "metadata": {
        "id": "y3egAb6XKvJS",
        "colab": {
          "base_uri": "https://localhost:8080/"
        },
        "outputId": "892bed07-4821-4ad1-d038-4bbcd702e77b"
      },
      "execution_count": null,
      "outputs": [
        {
          "output_type": "stream",
          "name": "stdout",
          "text": [
            "18\n",
            "40\n",
            "45\n"
          ]
        }
      ]
    },
    {
      "cell_type": "code",
      "source": [
        "# .items used to access the keys and values\n",
        "\n",
        "for student, points in student_points.items():\n",
        "  print(student, \" scored \", points)"
      ],
      "metadata": {
        "id": "pPryD7MyKvGU",
        "colab": {
          "base_uri": "https://localhost:8080/"
        },
        "outputId": "3422e5b0-8371-4960-a862-2fcdcfc17e1f"
      },
      "execution_count": null,
      "outputs": [
        {
          "output_type": "stream",
          "name": "stdout",
          "text": [
            "Mary  scored  18\n",
            "Peter  scored  40\n",
            "Edwards  scored  45\n"
          ]
        }
      ]
    },
    {
      "cell_type": "markdown",
      "source": [
        "- print out the customer who spent the most\n",
        "- e.g Peter bought a bulb for 50 KES on 21/02/2015"
      ],
      "metadata": {
        "id": "7GFhdFtHOLkC"
      }
    },
    {
      "cell_type": "code",
      "source": [
        "customer_data = {\n",
        "    \"Jane\":[\"Lamp\",500,\"20/02/2015\"],\n",
        "    \"Peter\":[\"Bulb\",50,\"21/02/2015\"],\n",
        "    \"Alfred\":[\"Socket\",250,\"20/02/2015\"],\n",
        "    \"Eden\":[\"Lamp\",500,\"22/02/2015\"],\n",
        "}\n",
        "#print out the customer who spent the most\n",
        "#e.g Peter bought a bulb for 50 KES on 21/02/2015\n",
        "\n",
        "max_spent = 0\n",
        "\n",
        "for value in customer_data.values():\n",
        "  if value[1] > max_spent:\n",
        "    max_spent = value[1]\n",
        "\n",
        "for key, value in customer_data.items():\n",
        "  if value[1] == max_spent:\n",
        "    print(key,\"bought a\",value[0],\"for\",value[1],\"KES on\",value[2])"
      ],
      "metadata": {
        "id": "9klSr4YWKvC6",
        "colab": {
          "base_uri": "https://localhost:8080/"
        },
        "outputId": "373ffb6f-a9f5-4a61-865a-03aa968e7c2a"
      },
      "execution_count": null,
      "outputs": [
        {
          "output_type": "stream",
          "name": "stdout",
          "text": [
            "Jane bought a Lamp for 500 KES on 20/02/2015\n",
            "Eden bought a Lamp for 500 KES on 22/02/2015\n"
          ]
        }
      ]
    },
    {
      "cell_type": "code",
      "source": [
        "#list comprehension\n",
        "\n",
        "customer_data = {\n",
        "    \"Jane\":[\"Lamp\",500,\"20/02/2015\"],\n",
        "    \"Peter\":[\"Bulb\",50,\"21/02/2015\"],\n",
        "    \"Alfred\":[\"Socket\",250,\"20/02/2015\"],\n",
        "    \"Eden\":[\"Lamp\",500,\"22/02/2015\"],\n",
        "}\n",
        "#print out the customer who spent the most\n",
        "#e.g Peter bought a bulb for 50 KES on 21/02/2015\n",
        "\n",
        "price_list = [item[1] for item in customer_data.values()]\n",
        "price_list"
      ],
      "metadata": {
        "colab": {
          "base_uri": "https://localhost:8080/"
        },
        "id": "zYmYZqtdZi8U",
        "outputId": "8db9f33f-6692-420a-8988-b95de7d358f3"
      },
      "execution_count": null,
      "outputs": [
        {
          "output_type": "execute_result",
          "data": {
            "text/plain": [
              "[500, 50, 250, 500]"
            ]
          },
          "metadata": {},
          "execution_count": 100
        }
      ]
    },
    {
      "cell_type": "code",
      "source": [],
      "metadata": {
        "id": "MDwwNmBdWi3e"
      },
      "execution_count": null,
      "outputs": []
    },
    {
      "cell_type": "markdown",
      "source": [
        "**Task 3: test knowledge on dictionaries**\n",
        "1. Add a new student with ID \"S006\" name \"Frank\", age 22, score 80, passed True\n",
        "2. Create a list called \"top_performers\" that contains students who scored above 75.\n",
        "3. Create a function that when given a student's name returns the data on the student, if the student is not present it should return \"student not found\"\n",
        "4. Create a dictionary containing summary values based on the data above as follows:\n",
        "\n",
        "\n",
        "> summary = {\n",
        "    \"total_students\": ...,\n",
        "    \"students_passed\": ...,\n",
        "    \"highest_score\": ...,\n",
        "    \"lowest_score\": ...\n",
        "}"
      ],
      "metadata": {
        "id": "Mm2tZBo0V8kj"
      }
    },
    {
      "cell_type": "code",
      "source": [
        "students_data = {\n",
        "    \"S001\": {\"name\": \"Alice\", \"age\": 20, \"score\": 88, \"passed\": True},\n",
        "    \"S002\": {\"name\": \"Bob\", \"age\": 22, \"score\": 76, \"passed\": True},\n",
        "    \"S003\": {\"name\": \"Charlie\", \"age\": 21, \"score\": 45, \"passed\": False},\n",
        "    \"S004\": {\"name\": \"David\", \"age\": 23, \"score\": 92, \"passed\": True},\n",
        "    \"S005\": {\"name\": \"Eva\", \"age\": 20, \"score\": 34, \"passed\": False}\n",
        "}\n",
        "\n",
        "# #append\n",
        "# student_points[\"Edwards\"] = 45\n",
        "\n",
        "students_data[\"S006\"] = {\"name\": \"Frank\", \"age\": 20, \"score\": 80, \"passed\": True}\n",
        "students_data"
      ],
      "metadata": {
        "id": "guh3pQvOKu2h",
        "colab": {
          "base_uri": "https://localhost:8080/"
        },
        "outputId": "50386c1d-48cf-44f6-e5fe-d2ef6cff8146"
      },
      "execution_count": null,
      "outputs": [
        {
          "output_type": "execute_result",
          "data": {
            "text/plain": [
              "{'S001': {'name': 'Alice', 'age': 20, 'score': 88, 'passed': True},\n",
              " 'S002': {'name': 'Bob', 'age': 22, 'score': 76, 'passed': True},\n",
              " 'S003': {'name': 'Charlie', 'age': 21, 'score': 45, 'passed': False},\n",
              " 'S004': {'name': 'David', 'age': 23, 'score': 92, 'passed': True},\n",
              " 'S005': {'name': 'Eva', 'age': 20, 'score': 34, 'passed': False},\n",
              " 'S006': {'name': 'Frank', 'age': 20, 'score': 80, 'passed': True}}"
            ]
          },
          "metadata": {},
          "execution_count": 1
        }
      ]
    },
    {
      "cell_type": "code",
      "source": [
        "#create an empty list\n",
        "top_performers = []\n",
        "\n",
        "target_score = 75\n",
        "\n",
        "#loop in dictionary\n",
        "for key, values in students_data.items():\n",
        "  score = values['score']       #access score and student names\n",
        "  name = values['name']\n",
        "\n",
        "  if score > target_score:\n",
        "    top_performers.append(name)\n",
        "\n",
        "print(top_performers)"
      ],
      "metadata": {
        "id": "e_vjydgDKuwZ",
        "colab": {
          "base_uri": "https://localhost:8080/"
        },
        "outputId": "5f305e23-d61a-48e6-e998-4a2bc707fc92"
      },
      "execution_count": null,
      "outputs": [
        {
          "output_type": "stream",
          "name": "stdout",
          "text": [
            "['Alice', 'Bob', 'David', 'Frank']\n"
          ]
        }
      ]
    },
    {
      "cell_type": "code",
      "source": [
        "#create function\n",
        "def student_info():\n",
        "  student_name = input(\"Enter the student name: \")\n",
        "\n",
        "  #loop through dictionary\n",
        "  for values in students_data.values():\n",
        "    if values['name'].lower() == student_name.lower():      #if name matches, return values\n",
        "      return values\n",
        "\n",
        "  return \"Student not found\"\n",
        "\n",
        "#call function\n",
        "info = student_info()\n",
        "print(info)"
      ],
      "metadata": {
        "colab": {
          "base_uri": "https://localhost:8080/"
        },
        "id": "lYmqfXhzXxvy",
        "outputId": "da2ddf83-c1d1-4541-c605-8e0d6d3da407"
      },
      "execution_count": null,
      "outputs": [
        {
          "output_type": "stream",
          "name": "stdout",
          "text": [
            "Enter the student name: FRANK\n",
            "{'name': 'Frank', 'age': 20, 'score': 80, 'passed': True}\n"
          ]
        }
      ]
    },
    {
      "cell_type": "code",
      "source": [
        "summary = {\n",
        "    \"total_students\": len(students_data),\n",
        "    \"students_passed\": len([student[\"score\"] for student in students_data.values() if student[\"passed\"]]),   #list comprehension\n",
        "    \"highest_score\" : max(values[\"score\"] for values in students_data.values()),\n",
        "    \"lowest_score\" : min(values[\"score\"] for values in students_data.values())\n",
        "}\n",
        "\n",
        "summary"
      ],
      "metadata": {
        "colab": {
          "base_uri": "https://localhost:8080/"
        },
        "id": "FKobn9pqesXL",
        "outputId": "9ae7546e-0fc5-474b-d517-75ea608d761b"
      },
      "execution_count": null,
      "outputs": [
        {
          "output_type": "execute_result",
          "data": {
            "text/plain": [
              "{'total_students': 6,\n",
              " 'students_passed': 4,\n",
              " 'highest_score': 92,\n",
              " 'lowest_score': 34}"
            ]
          },
          "metadata": {},
          "execution_count": 10
        }
      ]
    },
    {
      "cell_type": "code",
      "source": [],
      "metadata": {
        "id": "EL1clEKfCCcu"
      },
      "execution_count": null,
      "outputs": []
    },
    {
      "cell_type": "markdown",
      "source": [
        "**WHILE LOOP**"
      ],
      "metadata": {
        "id": "4v9q4z5lM7rg"
      }
    },
    {
      "cell_type": "code",
      "source": [
        "counter = 5\n",
        "while counter > 0:\n",
        "  print(\"Hi\"*counter)\n",
        "  counter = counter - 1   #control statement"
      ],
      "metadata": {
        "colab": {
          "base_uri": "https://localhost:8080/"
        },
        "id": "bMoUpHneQ1Gz",
        "outputId": "8275d978-1f90-4f6e-a3e9-4ece9a2e4ce9"
      },
      "execution_count": null,
      "outputs": [
        {
          "output_type": "stream",
          "name": "stdout",
          "text": [
            "HiHiHiHiHi\n",
            "HiHiHiHi\n",
            "HiHiHi\n",
            "HiHi\n",
            "Hi\n"
          ]
        }
      ]
    },
    {
      "cell_type": "code",
      "source": [
        "valid = False\n",
        "while not valid:\n",
        "  num = input(\"Enter a value: \")\n",
        "  if num.isnumeric():\n",
        "    valid = True    #control statement"
      ],
      "metadata": {
        "colab": {
          "base_uri": "https://localhost:8080/"
        },
        "id": "Qi7m_QKaSRd-",
        "outputId": "6393167b-1465-4d1a-99cd-70de8bfab85c"
      },
      "execution_count": null,
      "outputs": [
        {
          "name": "stdout",
          "output_type": "stream",
          "text": [
            "Enter a value: t\n",
            "Enter a value: 6\n"
          ]
        }
      ]
    },
    {
      "cell_type": "code",
      "source": [
        "while True:\n",
        "  num = input(\"Enter a value: \")\n",
        "  if num.isnumeric():\n",
        "    break     #exits your loop if match is found"
      ],
      "metadata": {
        "colab": {
          "base_uri": "https://localhost:8080/"
        },
        "id": "x4qJ8dTsTdjh",
        "outputId": "0286adaa-e08a-4958-8050-ccede9a32c9d"
      },
      "execution_count": null,
      "outputs": [
        {
          "name": "stdout",
          "output_type": "stream",
          "text": [
            "Enter a value: t\n",
            "Enter a value: z\n",
            "Enter a value: 3\n"
          ]
        }
      ]
    },
    {
      "cell_type": "code",
      "source": [
        "ages = [18,20,32,40]\n",
        "for age in ages:\n",
        "  if age == 32:\n",
        "    print(\"found\")\n",
        "    break       #exits loop early so you don't have to reach the end if you find what you're looking for\n",
        "  else:\n",
        "    print(\"not found\")"
      ],
      "metadata": {
        "colab": {
          "base_uri": "https://localhost:8080/"
        },
        "id": "3Sr1BNUMTxI8",
        "outputId": "1522a519-cada-484f-e789-5b39e59c9364"
      },
      "execution_count": null,
      "outputs": [
        {
          "output_type": "stream",
          "name": "stdout",
          "text": [
            "not found\n",
            "not found\n",
            "found\n"
          ]
        }
      ]
    },
    {
      "cell_type": "code",
      "source": [
        "ages = [20,15,30,12,40,33]\n",
        "for age in ages:\n",
        "  if age < 21:\n",
        "    continue    #skips execution and continues the loop\n",
        "  print(age, \"is a valid age\")"
      ],
      "metadata": {
        "colab": {
          "base_uri": "https://localhost:8080/"
        },
        "id": "jbDETSMcVO7m",
        "outputId": "a1613dbb-c96a-42a6-e587-943163b9c34b"
      },
      "execution_count": null,
      "outputs": [
        {
          "output_type": "stream",
          "name": "stdout",
          "text": [
            "30 is a valid age\n",
            "40 is a valid age\n",
            "33 is a valid age\n"
          ]
        }
      ]
    },
    {
      "cell_type": "code",
      "source": [
        "ages = [20,15,30,12,30,52,40,33]\n",
        "for age in ages:\n",
        "  if age < 21:\n",
        "    continue    #anything after continue will not be executed\n",
        "  elif age == 40:\n",
        "    break\n",
        "  print(age, \"is a valid age\")"
      ],
      "metadata": {
        "colab": {
          "base_uri": "https://localhost:8080/"
        },
        "id": "Sjr9VIbwWsy3",
        "outputId": "d68d3e87-b806-4321-aa30-56d8884526dd"
      },
      "execution_count": null,
      "outputs": [
        {
          "output_type": "stream",
          "name": "stdout",
          "text": [
            "30 is a valid age\n",
            "30 is a valid age\n",
            "52 is a valid age\n"
          ]
        }
      ]
    },
    {
      "cell_type": "markdown",
      "source": [
        "**EXCEPTION** **HANDLING**"
      ],
      "metadata": {
        "id": "3VVndj7GIK2l"
      }
    },
    {
      "cell_type": "code",
      "source": [
        "try:\n",
        "  a = int(input(\"Enter the first number: \"))\n",
        "  b = int(input(\"Enter the second number: \"))\n",
        "  result = a/b\n",
        "  print(\"Result: \", result)\n",
        "except:\n",
        "  print(\"You cannot divide by zero\")"
      ],
      "metadata": {
        "id": "EsQzdBBKIvVV",
        "colab": {
          "base_uri": "https://localhost:8080/"
        },
        "outputId": "224d135d-207a-4bf8-c0f4-899748ba74c0"
      },
      "execution_count": null,
      "outputs": [
        {
          "output_type": "stream",
          "name": "stdout",
          "text": [
            "Enter the first number: 40\n",
            "Enter the second number: 0\n",
            "You cannot divide by zero\n"
          ]
        }
      ]
    },
    {
      "cell_type": "code",
      "source": [
        "try:\n",
        "  num_1 = int(input(\"Enter a number: \"))\n",
        "  num_2 = int(input(\"Enter another number: \"))\n",
        "  result = num_1/num_2\n",
        "except ZeroDivisionError:\n",
        "  print(\"You cannot divide by zero\")\n",
        "except ValueError:\n",
        "  print(\"Invalid value. Numerical value needed\")\n",
        "except:\n",
        "  print(\"Something went wrong\")"
      ],
      "metadata": {
        "colab": {
          "base_uri": "https://localhost:8080/"
        },
        "id": "oE_m9BEQPe39",
        "outputId": "a630f6bb-381c-41aa-cf5a-a6ad7d4072b0"
      },
      "execution_count": null,
      "outputs": [
        {
          "output_type": "stream",
          "name": "stdout",
          "text": [
            "Enter a number: h\n",
            "Invalid value. Numerical value needed\n"
          ]
        }
      ]
    },
    {
      "cell_type": "code",
      "source": [
        "try:\n",
        "  num = int(input(\"Enter a number: \"))\n",
        "  print(\"Square is \", num * num)\n",
        "except:\n",
        "  print(\"Not a number!\")\n",
        "else:\n",
        "  print(\"Operation successful\")\n",
        "finally:\n",
        "  print(\"Finished processing\")\n"
      ],
      "metadata": {
        "colab": {
          "base_uri": "https://localhost:8080/"
        },
        "id": "Oxaudc-3Sq9t",
        "outputId": "84897864-b4a6-403e-b530-f5660013d02c"
      },
      "execution_count": null,
      "outputs": [
        {
          "output_type": "stream",
          "name": "stdout",
          "text": [
            "Enter a number: 4\n",
            "Square is  16\n",
            "Operation successful\n",
            "Finished processing\n"
          ]
        }
      ]
    },
    {
      "cell_type": "code",
      "source": [
        "try:\n",
        "  #code that might raise an exception #code that could cause an error\n",
        "except ExceptionType:\n",
        "  #code to run if exception/error occurs\n",
        "else:\n",
        "  #code to be run in case no error was encountered\n",
        "finally:\n"
      ],
      "metadata": {
        "id": "FrxFQ8mFVtL3"
      },
      "execution_count": null,
      "outputs": []
    },
    {
      "cell_type": "code",
      "source": [
        "try:\n",
        "  user_creds = {\"John\":\"Passwr\",\"Mercy\":\"Passw\"}\n",
        "  name = input(\"What is your name?\")\n",
        "  password = input(\"What is your password?\")\n",
        "  if user_creds[name] == password:\n",
        "    print(\"Welcome\",name)\n",
        "  else:\n",
        "    print(\"Invalid credentials\")\n",
        "except KeyError:\n",
        "  print(\"The user doesn't exist\")\n",
        "else:\n",
        "  age = input(\"What is your age?\")\n",
        "  print(name,\"'s age is\",age)\n",
        "\n"
      ],
      "metadata": {
        "colab": {
          "base_uri": "https://localhost:8080/"
        },
        "id": "lLKMCcXJTRW7",
        "outputId": "f624bd0f-efd7-4731-84dd-775409178262"
      },
      "execution_count": null,
      "outputs": [
        {
          "output_type": "stream",
          "name": "stdout",
          "text": [
            "What is your name?john\n",
            "What is your password?Passwr\n",
            "The user doesn't exist\n"
          ]
        }
      ]
    },
    {
      "cell_type": "markdown",
      "source": [
        "**Write a program:**\n",
        "1. Asks the user for 2 numbers\n",
        "2. Performs division\n",
        "3. Handles ValueError and ZeroDivisionError\n",
        "4. Keeps asking until correct input is given\n"
      ],
      "metadata": {
        "id": "yAO1Hgt2ZVqg"
      }
    },
    {
      "cell_type": "code",
      "source": [
        "while True:\n",
        "  try:\n",
        "    num_a = int(input(\"Enter first number: \"))\n",
        "    num_b = int(input(\"Enter second number: \"))\n",
        "    result = num_a/num_b\n",
        "    print(\"Result: \",result)\n",
        "    break\n",
        "  except ValueError:\n",
        "    print(\"Invalid valid. Numerical value needed\")\n",
        "  except ZeroDivisionError:\n",
        "    print(\"You cannot divide by zero\")"
      ],
      "metadata": {
        "colab": {
          "base_uri": "https://localhost:8080/"
        },
        "id": "cLbJG4iXZTAH",
        "outputId": "4d4f02f9-62e8-4f7b-9c20-6f0d53fe1e84"
      },
      "execution_count": null,
      "outputs": [
        {
          "output_type": "stream",
          "name": "stdout",
          "text": [
            "Enter first number: 48\n",
            "Enter second number: \n",
            "Invalid valid. Numerical value needed\n",
            "Enter first number: 0\n",
            "Enter second number: t\n",
            "Invalid valid. Numerical value needed\n",
            "Enter first number: 55\n",
            "Enter second number: 0\n",
            "You cannot divide by zero\n",
            "Enter first number: 72\n",
            "Enter second number: 8\n",
            "Result:  9.0\n"
          ]
        }
      ]
    },
    {
      "cell_type": "code",
      "source": [
        "print(\"\\\\\")"
      ],
      "metadata": {
        "colab": {
          "base_uri": "https://localhost:8080/"
        },
        "id": "hIIvQ2pGzD5K",
        "outputId": "7f53c78f-0a2f-4e3d-b636-a35cdb84424c"
      },
      "execution_count": null,
      "outputs": [
        {
          "output_type": "stream",
          "name": "stdout",
          "text": [
            "\\\n"
          ]
        }
      ]
    },
    {
      "cell_type": "code",
      "source": [
        "#syntax\n",
        "file = open(\"filename\", \"mode\")"
      ],
      "metadata": {
        "id": "7zXIr-kEqJ-C"
      },
      "execution_count": null,
      "outputs": []
    },
    {
      "cell_type": "code",
      "source": [
        "# Read full content\n",
        "file = open(\"example.txt\", \"r\")\n",
        "content = file.read()\n",
        "print(content)\n",
        "file.close()"
      ],
      "metadata": {
        "colab": {
          "base_uri": "https://localhost:8080/"
        },
        "id": "wJqTvREGvrb9",
        "outputId": "ca2899bb-0c2a-4481-a64d-cdcff311ed96"
      },
      "execution_count": 1,
      "outputs": [
        {
          "output_type": "stream",
          "name": "stdout",
          "text": [
            "Welcome to Python Programming!\n",
            "This file contains multiple lines.\n",
            "You can read this file line by line.\n",
            "File handling is very useful.\n",
            "Let's learn by doing.\n"
          ]
        }
      ]
    },
    {
      "cell_type": "code",
      "source": [
        "# read a file\n",
        "file = open(\"example.txt\", \"r\")\n",
        "line_1 = file.readline()      #reads one line\n",
        "lines_all = file.readlines()  #returns a list of all lines\n",
        "file.close()\n",
        "print(line_1)\n",
        "print(lines_all)"
      ],
      "metadata": {
        "colab": {
          "base_uri": "https://localhost:8080/"
        },
        "id": "M3wPndcfw6sR",
        "outputId": "d0591c10-63c8-4822-fc1d-b2b2ebad6ee2"
      },
      "execution_count": 2,
      "outputs": [
        {
          "output_type": "stream",
          "name": "stdout",
          "text": [
            "Welcome to Python Programming!\n",
            "\n",
            "['This file contains multiple lines.\\n', 'You can read this file line by line.\\n', 'File handling is very useful.\\n', \"Let's learn by doing.\"]\n"
          ]
        }
      ]
    },
    {
      "cell_type": "code",
      "source": [
        "# write in file\n",
        "file = open(\"output.txt\", \"w\")\n",
        "file.write(\"This is a new file.\\n\")\n",
        "file.write(\"Hello World!\\n\")\n",
        "file.close()"
      ],
      "metadata": {
        "id": "aRtXnE_Pxis9"
      },
      "execution_count": 3,
      "outputs": []
    },
    {
      "cell_type": "code",
      "source": [
        "# append to add line at the end\n",
        "file = open(\"output.txt\", \"a\")\n",
        "file.write(\"Adding more content...\\n\")\n",
        "file.close()"
      ],
      "metadata": {
        "id": "hM4I5n3QyMk3"
      },
      "execution_count": 4,
      "outputs": []
    },
    {
      "cell_type": "code",
      "source": [
        "# this allows us to automatically close file\n",
        "# keyword:with and variable_name:file\n",
        "\n",
        "with open(\"example.txt\", \"r\") as file:\n",
        "  all_lines = file.readlines()\n",
        "  print(all_lines)"
      ],
      "metadata": {
        "colab": {
          "base_uri": "https://localhost:8080/"
        },
        "id": "DeHold5Ozs5X",
        "outputId": "3025624e-0055-476a-ec34-9f96198852cd"
      },
      "execution_count": 5,
      "outputs": [
        {
          "output_type": "stream",
          "name": "stdout",
          "text": [
            "['Welcome to Python Programming!\\n', 'This file contains multiple lines.\\n', 'You can read this file line by line.\\n', 'File handling is very useful.\\n', \"Let's learn by doing.\"]\n"
          ]
        }
      ]
    },
    {
      "cell_type": "code",
      "source": [
        "# example of copying a file since you need to open more than one file\n",
        "# variable_names: source & dest\n",
        "\n",
        "with open(\"source.txt\", \"r\") as source, open(\"destination.txt\",\"w\") as dest:\n",
        "  for line in source:\n",
        "    dest.write(line)"
      ],
      "metadata": {
        "id": "8TK4lT6nzss4"
      },
      "execution_count": 6,
      "outputs": []
    },
    {
      "cell_type": "code",
      "source": [
        "try:\n",
        "  with open(\"missing.txt\", \"r\") as file:\n",
        "    content = file.read()\n",
        "except:\n",
        "  print(\"The file was not found\")"
      ],
      "metadata": {
        "colab": {
          "base_uri": "https://localhost:8080/"
        },
        "id": "cmFqHmYC13Tv",
        "outputId": "d9d5fc50-3820-4f33-db3b-c4f64a3bf4a5"
      },
      "execution_count": 7,
      "outputs": [
        {
          "output_type": "stream",
          "name": "stdout",
          "text": [
            "The file was not found\n"
          ]
        }
      ]
    },
    {
      "cell_type": "code",
      "source": [
        "#csv library\n",
        "\n",
        "import csv\n",
        "\n",
        "contents = []\n",
        "with open(\"data.csv\", \"r\") as file:\n",
        "  reader = csv.reader(file)     #to get content of csv\n",
        "  contents = list(reader)       #allows me to access contents even after file is closed\n",
        "  for row in reader:\n",
        "    print(row)\n",
        "\n",
        "print(contents)"
      ],
      "metadata": {
        "colab": {
          "base_uri": "https://localhost:8080/"
        },
        "id": "v7nwuipT3Qui",
        "outputId": "4bef2f95-1f0a-4838-eaef-021953e03180"
      },
      "execution_count": 8,
      "outputs": [
        {
          "output_type": "stream",
          "name": "stdout",
          "text": [
            "[['Name', 'Age', 'Grade'], ['Alice', '14', 'A'], ['Bob', '15', 'B'], ['Charlie', '13', 'A'], ['David', '14', 'C'], ['Eve', '15', 'A']]\n"
          ]
        }
      ]
    },
    {
      "cell_type": "markdown",
      "source": [
        "**Task: Contact book file**\n",
        "- Build a small contact book using a file:\n",
        "\n",
        "- Each contact: name, phone, email\n",
        "\n",
        "- Save each contact in contacts.txt\n",
        "\n",
        "- Menu: Add contact, View contacts, Search by name"
      ],
      "metadata": {
        "id": "ov2dRPAgYMPp"
      }
    },
    {
      "cell_type": "code",
      "source": [
        "#function to add contacts\n",
        "def add_contact():\n",
        "  name = input(\"Name: \")        #prompt user\n",
        "  while True:                   #loops thru until condition met is true\n",
        "    phone = input(\"Phone: \")\n",
        "    if (len(phone) == 10 and phone.isdigit()):\n",
        "      break\n",
        "  while True:                   #loops thru until condition met is true\n",
        "    email = input(\"Email: \")\n",
        "    if \"@\" in email:\n",
        "      break\n",
        "  with open(\"contacts.txt\", \"a\") as file:       #append to file\n",
        "    file.write(name + \" , \" + phone + \", \" + email + \"\\n\")     #write to file\n",
        "  print(\"New contact added.\\n\")\n"
      ],
      "metadata": {
        "id": "PHcW5brr3evL"
      },
      "execution_count": 59,
      "outputs": []
    },
    {
      "cell_type": "code",
      "source": [
        "#function to view all contacts\n",
        "def view_contacts():\n",
        "  try:\n",
        "    with open(\"contacts.txt\", \"r\") as file:   #open file in read mode\n",
        "      contact_lines = file.read()        #reads all lines in file\n",
        "      print(contact_lines)\n",
        "  except FileNotFoundError:                   #to handle if file doesn't exist\n",
        "    print(\"File does not exist\")\n"
      ],
      "metadata": {
        "id": "HAv5exaLkHUL"
      },
      "execution_count": 60,
      "outputs": []
    },
    {
      "cell_type": "code",
      "source": [
        "#function to search contact by name\n",
        "def search_contact():\n",
        "  name_search = input(\"Enter name to search: \")\n",
        "  name_found = False    #assume name isn't there until we find it\n",
        "\n",
        "  try:\n",
        "    with open(\"contacts.txt\", \"r\") as file:\n",
        "      for line in file:           #loop through file\n",
        "        if name_search in line:   #search for name\n",
        "          print(\"Name found: \", line.lower())\n",
        "          name_found = True\n",
        "    if not name_found:\n",
        "      print(\"Contact not found.\\n\")\n",
        "  except FileNotFoundError:\n",
        "    print(\"No contacts found.\\n\")"
      ],
      "metadata": {
        "id": "nFwU9jGhojYF"
      },
      "execution_count": 61,
      "outputs": []
    },
    {
      "cell_type": "code",
      "source": [
        "while True:\n",
        "  #show options for user to select\n",
        "  print(\"1. Add New Contact\")\n",
        "  print(\"2. View All Contacts\")\n",
        "  print(\"3. Search by Name\")\n",
        "  print(\"4. Exit\")\n",
        "\n",
        "  #ask user to pick an option 1-4\n",
        "  option = input(\"Choose an option(1-4): \")\n",
        "\n",
        "  #call function based on the user's option\n",
        "  if option == \"1\":\n",
        "    add_contact()\n",
        "  elif option == \"2\":\n",
        "    view_contacts()\n",
        "  elif option == \"3\":\n",
        "    search_contact()\n",
        "  elif option == \"4\":\n",
        "    print(\"Session completed\")\n",
        "    break\n",
        "  else:\n",
        "    (\"Invalid option.\\n\")\n",
        "\n"
      ],
      "metadata": {
        "colab": {
          "base_uri": "https://localhost:8080/"
        },
        "id": "lbfr07WXHspc",
        "outputId": "e4319c57-a2aa-4897-a9df-fb37ef2b79cb"
      },
      "execution_count": 62,
      "outputs": [
        {
          "output_type": "stream",
          "name": "stdout",
          "text": [
            "1. Add New Contact\n",
            "2. View All Contacts\n",
            "3. Search by Name\n",
            "4. Exit\n",
            "Choose an option(1-4): 1\n",
            "Name: Rose\n",
            "Phone: 0752003811\n",
            "Email: rosegmail.com\n",
            "Email: rose9gmail.com\n",
            "Email: rose@gmail.com\n",
            "New contact added.\n",
            "\n",
            "1. Add New Contact\n",
            "2. View All Contacts\n",
            "3. Search by Name\n",
            "4. Exit\n",
            "Choose an option(1-4): 2\n",
            "John , 0781234567, john@gmail.com\n",
            "Mercy , 0798765431, mercy@gmail.com\n",
            "Mary , 0712345678, marykp@gmail.com\n",
            "Steve , 0752073982, steve99@gmail.com\n",
            "Peter , 0781125043, peterqr@gmail.com\n",
            "Sally , 0788341093, sallyb@gmail.com\n",
            "Rose , 0752003811, rose@gmail.com\n",
            "\n",
            "1. Add New Contact\n",
            "2. View All Contacts\n",
            "3. Search by Name\n",
            "4. Exit\n",
            "Choose an option(1-4): 4\n",
            "Session completed\n"
          ]
        }
      ]
    },
    {
      "cell_type": "code",
      "source": [],
      "metadata": {
        "id": "jyObefRr7PE_"
      },
      "execution_count": null,
      "outputs": []
    },
    {
      "cell_type": "markdown",
      "source": [
        "**OBJECT ORIENTED PROGRAMMING**"
      ],
      "metadata": {
        "id": "cK5l8sDW7DN3"
      }
    },
    {
      "cell_type": "code",
      "source": [
        "class Student:\n",
        "  def __init__(self, name, age, grade):\n",
        "    self.name = name\n",
        "    self.age = age\n",
        "    self.grade = grade\n",
        "\n",
        "#create 3 objects\n",
        "s3 = Student(\"Charlie\", 19, 72)\n",
        "s1 = Student(\"Mary\", 20, 30)\n",
        "s2 = Student(\"Peter\", 22, 25)\n",
        "\n",
        "print(s3)\n",
        "print(s3.name)\n",
        ""
      ],
      "metadata": {
        "colab": {
          "base_uri": "https://localhost:8080/"
        },
        "id": "WEwjH1Ur7Exj",
        "outputId": "7af75ad7-5de3-48df-892f-7105e25985e5"
      },
      "execution_count": 67,
      "outputs": [
        {
          "output_type": "stream",
          "name": "stdout",
          "text": [
            "<__main__.Student object at 0x7e77b67400d0>\n",
            "Charlie\n"
          ]
        }
      ]
    },
    {
      "cell_type": "code",
      "source": [
        "class Student:\n",
        "  def __init__(self, name, age, grade):\n",
        "    self.name = name\n",
        "    self.age = age\n",
        "    self.grade = grade\n",
        "\n",
        "  def greet(self):\n",
        "    print(f\"Hello, my name is {self.name} and I am {self.age} years old.\")\n",
        "\n",
        "  def is_passed(self):\n",
        "    return self.grade >= 50\n",
        "\n",
        "\n",
        "#create 3 objects\n",
        "s3 = Student(\"Charlie\", 19, 72)\n",
        "s1 = Student(\"Mary\", 20, 30)\n",
        "s2 = Student(\"Peter\", 22, 25)\n",
        "\n",
        "print(s3)\n",
        "print(s3.name)\n",
        "print(s3.greet())\n"
      ],
      "metadata": {
        "colab": {
          "base_uri": "https://localhost:8080/"
        },
        "id": "G-tbKGdlB2Ro",
        "outputId": "3b324ae1-5631-4e28-f5ae-f512d9fbec16"
      },
      "execution_count": 70,
      "outputs": [
        {
          "output_type": "stream",
          "name": "stdout",
          "text": [
            "<__main__.Student object at 0x7e77a6a0bb10>\n",
            "Charlie\n",
            "Hello, my name is Charlie and I am 19 years old.\n",
            "None\n"
          ]
        }
      ]
    },
    {
      "cell_type": "code",
      "source": [
        "\n",
        "  def greet(self):\n",
        "    print(f\"Hello, my name is {self.name} and I am {self.age} years old.\")\n",
        "\n",
        "  def is_passed(self):\n",
        "    return self.grade >= 50"
      ],
      "metadata": {
        "id": "CeoH-v8j_fiu"
      },
      "execution_count": null,
      "outputs": []
    }
  ]
}